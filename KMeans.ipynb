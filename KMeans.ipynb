{
 "cells": [
  {
   "cell_type": "markdown",
   "id": "ef95b51f",
   "metadata": {},
   "source": [
    "analizar con kmeans el archivo donde la informacion esta dispuesta por HashFunction,\n",
    "csv generado por Preprocesamiento_linkedFuntion.ipynb"
   ]
  },
  {
   "cell_type": "code",
   "execution_count": 1,
   "id": "6a62832e",
   "metadata": {},
   "outputs": [],
   "source": [
    "import numpy as np\n",
    "import pandas as pd\n",
    "import matplotlib.pyplot as plt\n",
    "from sklearn import preprocessing\n",
    "from sklearn.cluster import KMeans\n",
    "from scipy.stats import zscore\n",
    "import seaborn as sns"
   ]
  },
  {
   "cell_type": "code",
   "execution_count": 2,
   "id": "7c2baf7f",
   "metadata": {},
   "outputs": [
    {
     "data": {
      "text/html": [
       "<div>\n",
       "<style scoped>\n",
       "    .dataframe tbody tr th:only-of-type {\n",
       "        vertical-align: middle;\n",
       "    }\n",
       "\n",
       "    .dataframe tbody tr th {\n",
       "        vertical-align: top;\n",
       "    }\n",
       "\n",
       "    .dataframe thead th {\n",
       "        text-align: right;\n",
       "    }\n",
       "</style>\n",
       "<table border=\"1\" class=\"dataframe\">\n",
       "  <thead>\n",
       "    <tr style=\"text-align: right;\">\n",
       "      <th></th>\n",
       "      <th>HashFunction</th>\n",
       "      <th>ExecutionTimeDays</th>\n",
       "      <th>InvocationsDays</th>\n",
       "      <th>http</th>\n",
       "      <th>event</th>\n",
       "      <th>orchestration</th>\n",
       "      <th>queue</th>\n",
       "      <th>storage</th>\n",
       "      <th>timer</th>\n",
       "      <th>others</th>\n",
       "    </tr>\n",
       "  </thead>\n",
       "  <tbody>\n",
       "    <tr>\n",
       "      <th>0</th>\n",
       "      <td>c968871b4ef0123401975d026b85cae2ad7dad9d06ae94...</td>\n",
       "      <td>83.000000</td>\n",
       "      <td>2881.0</td>\n",
       "      <td>0.0</td>\n",
       "      <td>0.0</td>\n",
       "      <td>0.0</td>\n",
       "      <td>0.0</td>\n",
       "      <td>0.0</td>\n",
       "      <td>1.0</td>\n",
       "      <td>0.0</td>\n",
       "    </tr>\n",
       "    <tr>\n",
       "      <th>1</th>\n",
       "      <td>1bc2d86badd21b18a8533d8e961e52585e5ad1fee0e2c2...</td>\n",
       "      <td>179.785714</td>\n",
       "      <td>366.0</td>\n",
       "      <td>0.0</td>\n",
       "      <td>0.0</td>\n",
       "      <td>0.0</td>\n",
       "      <td>0.0</td>\n",
       "      <td>0.0</td>\n",
       "      <td>1.0</td>\n",
       "      <td>0.0</td>\n",
       "    </tr>\n",
       "    <tr>\n",
       "      <th>2</th>\n",
       "      <td>b4d7cb9985cd8c1b7fe5ef888bbde1883929e9a5b5d2a6...</td>\n",
       "      <td>30.071429</td>\n",
       "      <td>36416.0</td>\n",
       "      <td>0.0</td>\n",
       "      <td>0.0</td>\n",
       "      <td>0.0</td>\n",
       "      <td>1.0</td>\n",
       "      <td>0.0</td>\n",
       "      <td>0.0</td>\n",
       "      <td>0.0</td>\n",
       "    </tr>\n",
       "    <tr>\n",
       "      <th>3</th>\n",
       "      <td>ff612aae7b380ef81ccef063ff814354ee16018af65dc1...</td>\n",
       "      <td>0.000000</td>\n",
       "      <td>26238.0</td>\n",
       "      <td>1.0</td>\n",
       "      <td>0.0</td>\n",
       "      <td>0.0</td>\n",
       "      <td>0.0</td>\n",
       "      <td>0.0</td>\n",
       "      <td>0.0</td>\n",
       "      <td>0.0</td>\n",
       "    </tr>\n",
       "    <tr>\n",
       "      <th>4</th>\n",
       "      <td>ee79840da82525548358f4b91d9fa1e550ec7af36bbe3e...</td>\n",
       "      <td>367.642857</td>\n",
       "      <td>288.0</td>\n",
       "      <td>0.0</td>\n",
       "      <td>0.0</td>\n",
       "      <td>0.0</td>\n",
       "      <td>0.0</td>\n",
       "      <td>0.0</td>\n",
       "      <td>1.0</td>\n",
       "      <td>0.0</td>\n",
       "    </tr>\n",
       "    <tr>\n",
       "      <th>...</th>\n",
       "      <td>...</td>\n",
       "      <td>...</td>\n",
       "      <td>...</td>\n",
       "      <td>...</td>\n",
       "      <td>...</td>\n",
       "      <td>...</td>\n",
       "      <td>...</td>\n",
       "      <td>...</td>\n",
       "      <td>...</td>\n",
       "      <td>...</td>\n",
       "    </tr>\n",
       "    <tr>\n",
       "      <th>73699</th>\n",
       "      <td>55e76e10f7305ccd9b673695e9a9c00d6a2e7a532453d1...</td>\n",
       "      <td>157.000000</td>\n",
       "      <td>1.0</td>\n",
       "      <td>1.0</td>\n",
       "      <td>0.0</td>\n",
       "      <td>0.0</td>\n",
       "      <td>0.0</td>\n",
       "      <td>0.0</td>\n",
       "      <td>0.0</td>\n",
       "      <td>0.0</td>\n",
       "    </tr>\n",
       "    <tr>\n",
       "      <th>73700</th>\n",
       "      <td>4795a4eddf26cca87a5c7c1de760fc1beefd16f866c197...</td>\n",
       "      <td>888.000000</td>\n",
       "      <td>1.0</td>\n",
       "      <td>1.0</td>\n",
       "      <td>0.0</td>\n",
       "      <td>0.0</td>\n",
       "      <td>0.0</td>\n",
       "      <td>0.0</td>\n",
       "      <td>0.0</td>\n",
       "      <td>0.0</td>\n",
       "    </tr>\n",
       "    <tr>\n",
       "      <th>73701</th>\n",
       "      <td>75e947006f189b6cce5c6516975142f29a0f169e764fde...</td>\n",
       "      <td>11966.000000</td>\n",
       "      <td>2.0</td>\n",
       "      <td>0.0</td>\n",
       "      <td>0.0</td>\n",
       "      <td>0.0</td>\n",
       "      <td>0.0</td>\n",
       "      <td>1.0</td>\n",
       "      <td>0.0</td>\n",
       "      <td>0.0</td>\n",
       "    </tr>\n",
       "    <tr>\n",
       "      <th>73702</th>\n",
       "      <td>42212390028151a3ab9918fd440633957a4b3b8bd3e679...</td>\n",
       "      <td>1128.000000</td>\n",
       "      <td>2.0</td>\n",
       "      <td>0.0</td>\n",
       "      <td>0.0</td>\n",
       "      <td>0.0</td>\n",
       "      <td>0.0</td>\n",
       "      <td>1.0</td>\n",
       "      <td>0.0</td>\n",
       "      <td>0.0</td>\n",
       "    </tr>\n",
       "    <tr>\n",
       "      <th>73703</th>\n",
       "      <td>11b3d8753f8f707b77c23063fb9cc9cfe9c74b40f9ab8c...</td>\n",
       "      <td>1847.000000</td>\n",
       "      <td>1.0</td>\n",
       "      <td>0.0</td>\n",
       "      <td>0.0</td>\n",
       "      <td>0.0</td>\n",
       "      <td>0.0</td>\n",
       "      <td>1.0</td>\n",
       "      <td>0.0</td>\n",
       "      <td>0.0</td>\n",
       "    </tr>\n",
       "  </tbody>\n",
       "</table>\n",
       "<p>73704 rows × 10 columns</p>\n",
       "</div>"
      ],
      "text/plain": [
       "                                            HashFunction  ExecutionTimeDays  \\\n",
       "0      c968871b4ef0123401975d026b85cae2ad7dad9d06ae94...          83.000000   \n",
       "1      1bc2d86badd21b18a8533d8e961e52585e5ad1fee0e2c2...         179.785714   \n",
       "2      b4d7cb9985cd8c1b7fe5ef888bbde1883929e9a5b5d2a6...          30.071429   \n",
       "3      ff612aae7b380ef81ccef063ff814354ee16018af65dc1...           0.000000   \n",
       "4      ee79840da82525548358f4b91d9fa1e550ec7af36bbe3e...         367.642857   \n",
       "...                                                  ...                ...   \n",
       "73699  55e76e10f7305ccd9b673695e9a9c00d6a2e7a532453d1...         157.000000   \n",
       "73700  4795a4eddf26cca87a5c7c1de760fc1beefd16f866c197...         888.000000   \n",
       "73701  75e947006f189b6cce5c6516975142f29a0f169e764fde...       11966.000000   \n",
       "73702  42212390028151a3ab9918fd440633957a4b3b8bd3e679...        1128.000000   \n",
       "73703  11b3d8753f8f707b77c23063fb9cc9cfe9c74b40f9ab8c...        1847.000000   \n",
       "\n",
       "       InvocationsDays  http  event  orchestration  queue  storage  timer  \\\n",
       "0               2881.0   0.0    0.0            0.0    0.0      0.0    1.0   \n",
       "1                366.0   0.0    0.0            0.0    0.0      0.0    1.0   \n",
       "2              36416.0   0.0    0.0            0.0    1.0      0.0    0.0   \n",
       "3              26238.0   1.0    0.0            0.0    0.0      0.0    0.0   \n",
       "4                288.0   0.0    0.0            0.0    0.0      0.0    1.0   \n",
       "...                ...   ...    ...            ...    ...      ...    ...   \n",
       "73699              1.0   1.0    0.0            0.0    0.0      0.0    0.0   \n",
       "73700              1.0   1.0    0.0            0.0    0.0      0.0    0.0   \n",
       "73701              2.0   0.0    0.0            0.0    0.0      1.0    0.0   \n",
       "73702              2.0   0.0    0.0            0.0    0.0      1.0    0.0   \n",
       "73703              1.0   0.0    0.0            0.0    0.0      1.0    0.0   \n",
       "\n",
       "       others  \n",
       "0         0.0  \n",
       "1         0.0  \n",
       "2         0.0  \n",
       "3         0.0  \n",
       "4         0.0  \n",
       "...       ...  \n",
       "73699     0.0  \n",
       "73700     0.0  \n",
       "73701     0.0  \n",
       "73702     0.0  \n",
       "73703     0.0  \n",
       "\n",
       "[73704 rows x 10 columns]"
      ]
     },
     "execution_count": 2,
     "metadata": {},
     "output_type": "execute_result"
    }
   ],
   "source": [
    "matriz = pd.read_csv('MatrizDataFuntions.csv')\n",
    "matriz"
   ]
  },
  {
   "cell_type": "code",
   "execution_count": 3,
   "id": "bab8a805",
   "metadata": {},
   "outputs": [
    {
     "data": {
      "text/html": [
       "<div>\n",
       "<style scoped>\n",
       "    .dataframe tbody tr th:only-of-type {\n",
       "        vertical-align: middle;\n",
       "    }\n",
       "\n",
       "    .dataframe tbody tr th {\n",
       "        vertical-align: top;\n",
       "    }\n",
       "\n",
       "    .dataframe thead th {\n",
       "        text-align: right;\n",
       "    }\n",
       "</style>\n",
       "<table border=\"1\" class=\"dataframe\">\n",
       "  <thead>\n",
       "    <tr style=\"text-align: right;\">\n",
       "      <th></th>\n",
       "      <th>HashFunction</th>\n",
       "      <th>ExecutionTimeDays</th>\n",
       "      <th>InvocationsDays</th>\n",
       "      <th>http</th>\n",
       "      <th>event</th>\n",
       "      <th>orchestration</th>\n",
       "      <th>queue</th>\n",
       "      <th>storage</th>\n",
       "      <th>timer</th>\n",
       "      <th>others</th>\n",
       "    </tr>\n",
       "  </thead>\n",
       "  <tbody>\n",
       "    <tr>\n",
       "      <th>0</th>\n",
       "      <td>b4d7cb9985cd8c1b7fe5ef888bbde1883929e9a5b5d2a6...</td>\n",
       "      <td>30.071429</td>\n",
       "      <td>36416.0</td>\n",
       "      <td>0.0</td>\n",
       "      <td>0.0</td>\n",
       "      <td>0.0</td>\n",
       "      <td>1.0</td>\n",
       "      <td>0.0</td>\n",
       "      <td>0.0</td>\n",
       "      <td>0.0</td>\n",
       "    </tr>\n",
       "    <tr>\n",
       "      <th>1</th>\n",
       "      <td>ff612aae7b380ef81ccef063ff814354ee16018af65dc1...</td>\n",
       "      <td>0.000000</td>\n",
       "      <td>26238.0</td>\n",
       "      <td>1.0</td>\n",
       "      <td>0.0</td>\n",
       "      <td>0.0</td>\n",
       "      <td>0.0</td>\n",
       "      <td>0.0</td>\n",
       "      <td>0.0</td>\n",
       "      <td>0.0</td>\n",
       "    </tr>\n",
       "    <tr>\n",
       "      <th>2</th>\n",
       "      <td>dd833bb70b3a57caaa6b4e4560975d9ba5a77fd0151e13...</td>\n",
       "      <td>222.428571</td>\n",
       "      <td>64338158.0</td>\n",
       "      <td>0.0</td>\n",
       "      <td>0.0</td>\n",
       "      <td>0.0</td>\n",
       "      <td>1.0</td>\n",
       "      <td>0.0</td>\n",
       "      <td>0.0</td>\n",
       "      <td>0.0</td>\n",
       "    </tr>\n",
       "    <tr>\n",
       "      <th>3</th>\n",
       "      <td>76ac14f7c53c76012dd4880087d584cf9775ef665c676a...</td>\n",
       "      <td>64.928571</td>\n",
       "      <td>84050.0</td>\n",
       "      <td>0.0</td>\n",
       "      <td>0.0</td>\n",
       "      <td>0.0</td>\n",
       "      <td>1.0</td>\n",
       "      <td>0.0</td>\n",
       "      <td>0.0</td>\n",
       "      <td>0.0</td>\n",
       "    </tr>\n",
       "    <tr>\n",
       "      <th>4</th>\n",
       "      <td>b2d7ac575da1289b9dd714bbb9b8dc85994bfbaf4db7af...</td>\n",
       "      <td>208.214286</td>\n",
       "      <td>1394.0</td>\n",
       "      <td>1.0</td>\n",
       "      <td>0.0</td>\n",
       "      <td>0.0</td>\n",
       "      <td>0.0</td>\n",
       "      <td>0.0</td>\n",
       "      <td>0.0</td>\n",
       "      <td>0.0</td>\n",
       "    </tr>\n",
       "    <tr>\n",
       "      <th>...</th>\n",
       "      <td>...</td>\n",
       "      <td>...</td>\n",
       "      <td>...</td>\n",
       "      <td>...</td>\n",
       "      <td>...</td>\n",
       "      <td>...</td>\n",
       "      <td>...</td>\n",
       "      <td>...</td>\n",
       "      <td>...</td>\n",
       "      <td>...</td>\n",
       "    </tr>\n",
       "    <tr>\n",
       "      <th>53656</th>\n",
       "      <td>55e76e10f7305ccd9b673695e9a9c00d6a2e7a532453d1...</td>\n",
       "      <td>157.000000</td>\n",
       "      <td>1.0</td>\n",
       "      <td>1.0</td>\n",
       "      <td>0.0</td>\n",
       "      <td>0.0</td>\n",
       "      <td>0.0</td>\n",
       "      <td>0.0</td>\n",
       "      <td>0.0</td>\n",
       "      <td>0.0</td>\n",
       "    </tr>\n",
       "    <tr>\n",
       "      <th>53657</th>\n",
       "      <td>4795a4eddf26cca87a5c7c1de760fc1beefd16f866c197...</td>\n",
       "      <td>888.000000</td>\n",
       "      <td>1.0</td>\n",
       "      <td>1.0</td>\n",
       "      <td>0.0</td>\n",
       "      <td>0.0</td>\n",
       "      <td>0.0</td>\n",
       "      <td>0.0</td>\n",
       "      <td>0.0</td>\n",
       "      <td>0.0</td>\n",
       "    </tr>\n",
       "    <tr>\n",
       "      <th>53658</th>\n",
       "      <td>75e947006f189b6cce5c6516975142f29a0f169e764fde...</td>\n",
       "      <td>11966.000000</td>\n",
       "      <td>2.0</td>\n",
       "      <td>0.0</td>\n",
       "      <td>0.0</td>\n",
       "      <td>0.0</td>\n",
       "      <td>0.0</td>\n",
       "      <td>1.0</td>\n",
       "      <td>0.0</td>\n",
       "      <td>0.0</td>\n",
       "    </tr>\n",
       "    <tr>\n",
       "      <th>53659</th>\n",
       "      <td>42212390028151a3ab9918fd440633957a4b3b8bd3e679...</td>\n",
       "      <td>1128.000000</td>\n",
       "      <td>2.0</td>\n",
       "      <td>0.0</td>\n",
       "      <td>0.0</td>\n",
       "      <td>0.0</td>\n",
       "      <td>0.0</td>\n",
       "      <td>1.0</td>\n",
       "      <td>0.0</td>\n",
       "      <td>0.0</td>\n",
       "    </tr>\n",
       "    <tr>\n",
       "      <th>53660</th>\n",
       "      <td>11b3d8753f8f707b77c23063fb9cc9cfe9c74b40f9ab8c...</td>\n",
       "      <td>1847.000000</td>\n",
       "      <td>1.0</td>\n",
       "      <td>0.0</td>\n",
       "      <td>0.0</td>\n",
       "      <td>0.0</td>\n",
       "      <td>0.0</td>\n",
       "      <td>1.0</td>\n",
       "      <td>0.0</td>\n",
       "      <td>0.0</td>\n",
       "    </tr>\n",
       "  </tbody>\n",
       "</table>\n",
       "<p>53661 rows × 10 columns</p>\n",
       "</div>"
      ],
      "text/plain": [
       "                                            HashFunction  ExecutionTimeDays  \\\n",
       "0      b4d7cb9985cd8c1b7fe5ef888bbde1883929e9a5b5d2a6...          30.071429   \n",
       "1      ff612aae7b380ef81ccef063ff814354ee16018af65dc1...           0.000000   \n",
       "2      dd833bb70b3a57caaa6b4e4560975d9ba5a77fd0151e13...         222.428571   \n",
       "3      76ac14f7c53c76012dd4880087d584cf9775ef665c676a...          64.928571   \n",
       "4      b2d7ac575da1289b9dd714bbb9b8dc85994bfbaf4db7af...         208.214286   \n",
       "...                                                  ...                ...   \n",
       "53656  55e76e10f7305ccd9b673695e9a9c00d6a2e7a532453d1...         157.000000   \n",
       "53657  4795a4eddf26cca87a5c7c1de760fc1beefd16f866c197...         888.000000   \n",
       "53658  75e947006f189b6cce5c6516975142f29a0f169e764fde...       11966.000000   \n",
       "53659  42212390028151a3ab9918fd440633957a4b3b8bd3e679...        1128.000000   \n",
       "53660  11b3d8753f8f707b77c23063fb9cc9cfe9c74b40f9ab8c...        1847.000000   \n",
       "\n",
       "       InvocationsDays  http  event  orchestration  queue  storage  timer  \\\n",
       "0              36416.0   0.0    0.0            0.0    1.0      0.0    0.0   \n",
       "1              26238.0   1.0    0.0            0.0    0.0      0.0    0.0   \n",
       "2           64338158.0   0.0    0.0            0.0    1.0      0.0    0.0   \n",
       "3              84050.0   0.0    0.0            0.0    1.0      0.0    0.0   \n",
       "4               1394.0   1.0    0.0            0.0    0.0      0.0    0.0   \n",
       "...                ...   ...    ...            ...    ...      ...    ...   \n",
       "53656              1.0   1.0    0.0            0.0    0.0      0.0    0.0   \n",
       "53657              1.0   1.0    0.0            0.0    0.0      0.0    0.0   \n",
       "53658              2.0   0.0    0.0            0.0    0.0      1.0    0.0   \n",
       "53659              2.0   0.0    0.0            0.0    0.0      1.0    0.0   \n",
       "53660              1.0   0.0    0.0            0.0    0.0      1.0    0.0   \n",
       "\n",
       "       others  \n",
       "0         0.0  \n",
       "1         0.0  \n",
       "2         0.0  \n",
       "3         0.0  \n",
       "4         0.0  \n",
       "...       ...  \n",
       "53656     0.0  \n",
       "53657     0.0  \n",
       "53658     0.0  \n",
       "53659     0.0  \n",
       "53660     0.0  \n",
       "\n",
       "[53661 rows x 10 columns]"
      ]
     },
     "execution_count": 3,
     "metadata": {},
     "output_type": "execute_result"
    }
   ],
   "source": [
    "# matriz de funciones sin Timer\n",
    "# matriz de Funciones solo Timer\n",
    "matriz1 = matriz.copy()\n",
    "matriz2 = matriz.copy()\n",
    "\n",
    "\n",
    "cond = matriz1.loc[matriz1['timer'] >= 1].index\n",
    "matriz1 = matriz1.drop(cond, inplace=False).reset_index(drop = True)\n",
    "\n",
    "#Se selecionan unos datos al azar para posteriormente verificar el clúster \n",
    "#al que pertenecen\n",
    "indices = [26, 176, 392, 5000, 7500, 10000, 10500, 20000]\n",
    "muestra1 = pd.DataFrame(matriz1.loc[indices], \n",
    "                       columns = matriz1.keys()).reset_index(drop = True) # muetras de funciones sin timer\n",
    "\n",
    "matriz1 = matriz1.drop(indices, axis = 0).reset_index(drop = True)\n",
    "matriz1"
   ]
  },
  {
   "cell_type": "code",
   "execution_count": 5,
   "id": "329c269a",
   "metadata": {},
   "outputs": [
    {
     "data": {
      "text/html": [
       "<div>\n",
       "<style scoped>\n",
       "    .dataframe tbody tr th:only-of-type {\n",
       "        vertical-align: middle;\n",
       "    }\n",
       "\n",
       "    .dataframe tbody tr th {\n",
       "        vertical-align: top;\n",
       "    }\n",
       "\n",
       "    .dataframe thead th {\n",
       "        text-align: right;\n",
       "    }\n",
       "</style>\n",
       "<table border=\"1\" class=\"dataframe\">\n",
       "  <thead>\n",
       "    <tr style=\"text-align: right;\">\n",
       "      <th></th>\n",
       "      <th>ExecutionTimeDays</th>\n",
       "      <th>InvocationsDays</th>\n",
       "      <th>http</th>\n",
       "      <th>event</th>\n",
       "      <th>orchestration</th>\n",
       "      <th>queue</th>\n",
       "      <th>storage</th>\n",
       "      <th>others</th>\n",
       "    </tr>\n",
       "  </thead>\n",
       "  <tbody>\n",
       "    <tr>\n",
       "      <th>0</th>\n",
       "      <td>-0.243874</td>\n",
       "      <td>0.024534</td>\n",
       "      <td>-1.144286</td>\n",
       "      <td>-0.189385</td>\n",
       "      <td>-0.346701</td>\n",
       "      <td>2.006687</td>\n",
       "      <td>-0.176154</td>\n",
       "      <td>-0.25722</td>\n",
       "    </tr>\n",
       "    <tr>\n",
       "      <th>1</th>\n",
       "      <td>-0.245032</td>\n",
       "      <td>0.010986</td>\n",
       "      <td>0.873907</td>\n",
       "      <td>-0.189385</td>\n",
       "      <td>-0.346701</td>\n",
       "      <td>-0.498334</td>\n",
       "      <td>-0.176154</td>\n",
       "      <td>-0.25722</td>\n",
       "    </tr>\n",
       "    <tr>\n",
       "      <th>2</th>\n",
       "      <td>-0.236464</td>\n",
       "      <td>85.614774</td>\n",
       "      <td>-1.144286</td>\n",
       "      <td>-0.189385</td>\n",
       "      <td>-0.346701</td>\n",
       "      <td>2.006687</td>\n",
       "      <td>-0.176154</td>\n",
       "      <td>-0.25722</td>\n",
       "    </tr>\n",
       "    <tr>\n",
       "      <th>3</th>\n",
       "      <td>-0.242531</td>\n",
       "      <td>0.087938</td>\n",
       "      <td>-1.144286</td>\n",
       "      <td>-0.189385</td>\n",
       "      <td>-0.346701</td>\n",
       "      <td>2.006687</td>\n",
       "      <td>-0.176154</td>\n",
       "      <td>-0.25722</td>\n",
       "    </tr>\n",
       "    <tr>\n",
       "      <th>4</th>\n",
       "      <td>-0.237012</td>\n",
       "      <td>-0.022083</td>\n",
       "      <td>0.873907</td>\n",
       "      <td>-0.189385</td>\n",
       "      <td>-0.346701</td>\n",
       "      <td>-0.498334</td>\n",
       "      <td>-0.176154</td>\n",
       "      <td>-0.25722</td>\n",
       "    </tr>\n",
       "    <tr>\n",
       "      <th>...</th>\n",
       "      <td>...</td>\n",
       "      <td>...</td>\n",
       "      <td>...</td>\n",
       "      <td>...</td>\n",
       "      <td>...</td>\n",
       "      <td>...</td>\n",
       "      <td>...</td>\n",
       "      <td>...</td>\n",
       "    </tr>\n",
       "    <tr>\n",
       "      <th>53656</th>\n",
       "      <td>-0.238984</td>\n",
       "      <td>-0.023937</td>\n",
       "      <td>0.873907</td>\n",
       "      <td>-0.189385</td>\n",
       "      <td>-0.346701</td>\n",
       "      <td>-0.498334</td>\n",
       "      <td>-0.176154</td>\n",
       "      <td>-0.25722</td>\n",
       "    </tr>\n",
       "    <tr>\n",
       "      <th>53657</th>\n",
       "      <td>-0.210825</td>\n",
       "      <td>-0.023937</td>\n",
       "      <td>0.873907</td>\n",
       "      <td>-0.189385</td>\n",
       "      <td>-0.346701</td>\n",
       "      <td>-0.498334</td>\n",
       "      <td>-0.176154</td>\n",
       "      <td>-0.25722</td>\n",
       "    </tr>\n",
       "    <tr>\n",
       "      <th>53658</th>\n",
       "      <td>0.215925</td>\n",
       "      <td>-0.023936</td>\n",
       "      <td>-1.144286</td>\n",
       "      <td>-0.189385</td>\n",
       "      <td>-0.346701</td>\n",
       "      <td>-0.498334</td>\n",
       "      <td>5.676850</td>\n",
       "      <td>-0.25722</td>\n",
       "    </tr>\n",
       "    <tr>\n",
       "      <th>53659</th>\n",
       "      <td>-0.201579</td>\n",
       "      <td>-0.023936</td>\n",
       "      <td>-1.144286</td>\n",
       "      <td>-0.189385</td>\n",
       "      <td>-0.346701</td>\n",
       "      <td>-0.498334</td>\n",
       "      <td>5.676850</td>\n",
       "      <td>-0.25722</td>\n",
       "    </tr>\n",
       "    <tr>\n",
       "      <th>53660</th>\n",
       "      <td>-0.173882</td>\n",
       "      <td>-0.023937</td>\n",
       "      <td>-1.144286</td>\n",
       "      <td>-0.189385</td>\n",
       "      <td>-0.346701</td>\n",
       "      <td>-0.498334</td>\n",
       "      <td>5.676850</td>\n",
       "      <td>-0.25722</td>\n",
       "    </tr>\n",
       "  </tbody>\n",
       "</table>\n",
       "<p>53661 rows × 8 columns</p>\n",
       "</div>"
      ],
      "text/plain": [
       "       ExecutionTimeDays  InvocationsDays      http     event  orchestration  \\\n",
       "0              -0.243874         0.024534 -1.144286 -0.189385      -0.346701   \n",
       "1              -0.245032         0.010986  0.873907 -0.189385      -0.346701   \n",
       "2              -0.236464        85.614774 -1.144286 -0.189385      -0.346701   \n",
       "3              -0.242531         0.087938 -1.144286 -0.189385      -0.346701   \n",
       "4              -0.237012        -0.022083  0.873907 -0.189385      -0.346701   \n",
       "...                  ...              ...       ...       ...            ...   \n",
       "53656          -0.238984        -0.023937  0.873907 -0.189385      -0.346701   \n",
       "53657          -0.210825        -0.023937  0.873907 -0.189385      -0.346701   \n",
       "53658           0.215925        -0.023936 -1.144286 -0.189385      -0.346701   \n",
       "53659          -0.201579        -0.023936 -1.144286 -0.189385      -0.346701   \n",
       "53660          -0.173882        -0.023937 -1.144286 -0.189385      -0.346701   \n",
       "\n",
       "          queue   storage   others  \n",
       "0      2.006687 -0.176154 -0.25722  \n",
       "1     -0.498334 -0.176154 -0.25722  \n",
       "2      2.006687 -0.176154 -0.25722  \n",
       "3      2.006687 -0.176154 -0.25722  \n",
       "4     -0.498334 -0.176154 -0.25722  \n",
       "...         ...       ...      ...  \n",
       "53656 -0.498334 -0.176154 -0.25722  \n",
       "53657 -0.498334 -0.176154 -0.25722  \n",
       "53658 -0.498334  5.676850 -0.25722  \n",
       "53659 -0.498334  5.676850 -0.25722  \n",
       "53660 -0.498334  5.676850 -0.25722  \n",
       "\n",
       "[53661 rows x 8 columns]"
      ]
     },
     "execution_count": 5,
     "metadata": {},
     "output_type": "execute_result"
    }
   ],
   "source": [
    "# eliminamos columna de hasgfuncion y normalizamos \n",
    "mCorr = matriz1.iloc[:, 1:]\n",
    "matriz1 = matriz1.iloc[:, 1:].apply(zscore)\n",
    "muestra1 = muestra1.iloc[:, 1:].apply(zscore)\n",
    "\n",
    "matriz1 = matriz1.drop(['timer'], axis =1)\n",
    "muestra1 = muestra1.drop(['timer'], axis = 1) \n",
    "mCorr = mCorr.drop(['timer'], axis = 1) \n",
    "matriz1"
   ]
  },
  {
   "cell_type": "code",
   "execution_count": 7,
   "id": "5fe42561",
   "metadata": {},
   "outputs": [],
   "source": [
    "# X para trabajar con el algoritmo Kmeans\n",
    "X = matriz1.copy()"
   ]
  },
  {
   "cell_type": "code",
   "execution_count": 8,
   "id": "9bffb11c",
   "metadata": {},
   "outputs": [
    {
     "data": {
      "image/png": "[encoded data removed]",
      "text/plain": [
       "<Figure size 720x432 with 1 Axes>"
      ]
     },
     "metadata": {
      "needs_background": "light"
     },
     "output_type": "display_data"
    }
   ],
   "source": [
    "## Hallar el valor óptimo de K ##\n",
    "# medoto del codo \n",
    "inercia = []\n",
    "#inercia suma de distancias cuadradas de la muetras a su centro d cluster \n",
    "for i in range(1, 25):\n",
    "    algoritmoKMeans = KMeans(n_clusters = i, init = 'k-means++', \n",
    "                       max_iter = 300, n_init = 10)\n",
    "    algoritmoKMeans.fit(X)\n",
    "    #Para cada K, se calcula la suma total del cuadrado dentro del clúster\n",
    "    inercia.append(algoritmoKMeans.inertia_)\n",
    "\n",
    "    \n",
    "#Se traza la curva de la suma de errores cuadráticos\n",
    "plt.figure(figsize=[10,6])\n",
    "plt.title('Método del Codo')\n",
    "plt.xlabel('No. de clusters')\n",
    "plt.ylabel('Inercia')\n",
    "plt.plot(list(range(1, 25)), inercia, marker='o')\n",
    "plt.ion()"
   ]
  },
  {
   "cell_type": "code",
   "execution_count": 9,
   "id": "838acec1",
   "metadata": {},
   "outputs": [
    {
     "data": {
      "image/png": "[encoded data removed]",
      "text/plain": [
       "<Figure size 720x432 with 1 Axes>"
      ]
     },
     "metadata": {
      "needs_background": "light"
     },
     "output_type": "display_data"
    }
   ],
   "source": [
    "from sklearn.metrics import silhouette_score\n",
    "silueta = []\n",
    "for k in range(2, 20):\n",
    "    algoritmoKMeans = KMeans(n_clusters = k, init = 'k-means++', \n",
    "                       max_iter = 300, n_init = 10)\n",
    "    algoritmoKMeans.fit(X)\n",
    "    labels = algoritmoKMeans.labels_\n",
    "    \n",
    "    silueta.append(silhouette_score(X, labels, metric = 'euclidean'))\n",
    "    \n",
    "plt.figure(figsize=[10,6])\n",
    "plt.title('Método de la Silueta')\n",
    "plt.xlabel('No. de clusters')\n",
    "plt.ylabel('Puntaje de la Silueta')\n",
    "plt.plot(list(range(2, 20)), silueta, 'bx-') \n",
    "plt.ion()"
   ]
  },
  {
   "cell_type": "code",
   "execution_count": 10,
   "id": "511bf141",
   "metadata": {},
   "outputs": [],
   "source": [
    "# K = 7\n",
    "## Se aplica el algoritmo de clustering ##\n",
    "#Se define el algoritmo junto con el valor de K\n",
    "algoritmoKMeans = KMeans(n_clusters = 8, init = 'k-means++', \n",
    "                   max_iter = 300, n_init = 10)\n"
   ]
  },
  {
   "cell_type": "code",
   "execution_count": 11,
   "id": "fe3189d8",
   "metadata": {},
   "outputs": [
    {
     "data": {
      "text/plain": [
       "KMeans()"
      ]
     },
     "execution_count": 11,
     "metadata": {},
     "output_type": "execute_result"
    }
   ],
   "source": [
    "#Se entrena el algoritmo\n",
    "algoritmoKMeans.fit(X)"
   ]
  },
  {
   "cell_type": "code",
   "execution_count": 12,
   "id": "8169d7bd",
   "metadata": {},
   "outputs": [
    {
     "name": "stdout",
     "output_type": "stream",
     "text": [
      "[[-1.18838548e-01 -1.83510321e-02  8.73907347e-01 -1.89384922e-01\n",
      "  -3.46700505e-01 -4.98333892e-01 -1.76154031e-01 -2.57219765e-01]\n",
      " [ 7.00846778e-02  6.79931641e-03 -1.14428607e+00 -1.89384922e-01\n",
      "  -3.46700505e-01  2.00668671e+00 -1.76154031e-01 -2.57219765e-01]\n",
      " [-1.44502549e-01  1.87845990e-01 -1.14428607e+00  5.28025140e+00\n",
      "  -3.46700505e-01 -4.98333892e-01 -1.76154031e-01 -2.57219765e-01]\n",
      " [-1.18197237e-01 -2.06697484e-02 -1.14428607e+00 -1.89384922e-01\n",
      "   2.88433385e+00 -4.98333892e-01 -1.76154031e-01 -2.57219765e-01]\n",
      " [-1.38876949e-01 -2.10765970e-02 -1.14428607e+00 -1.89384922e-01\n",
      "  -3.46700505e-01 -4.98333892e-01 -1.76154031e-01  3.88772612e+00]\n",
      " [ 2.34103885e-02 -1.56334296e-02 -1.14428607e+00 -1.89384922e-01\n",
      "  -3.46700505e-01 -4.98333892e-01  5.67684995e+00 -2.57219765e-01]\n",
      " [-2.17313776e-01  1.19512635e+02 -4.71554928e-01 -1.89384922e-01\n",
      "  -3.46700505e-01  1.17167985e+00 -1.76154031e-01 -2.57219765e-01]\n",
      " [ 8.47779142e+00 -2.29779305e-02 -3.54029609e-01 -1.67418511e-01\n",
      "   3.60927214e-02  4.57396861e-01  1.41177511e-01 -4.91401521e-02]]\n",
      "[1 0 6 ... 5 5 5]\n"
     ]
    }
   ],
   "source": [
    "#Se obtiene los datos de los centroides y las etiquetas\n",
    "centroides, etiquetas = algoritmoKMeans.cluster_centers_, algoritmoKMeans.labels_\n",
    "print (centroides)\n",
    "print (etiquetas)# a que cluster pertenece cada dato del dataset "
   ]
  },
  {
   "cell_type": "code",
   "execution_count": 13,
   "id": "22cd4a81",
   "metadata": {},
   "outputs": [
    {
     "name": "stdout",
     "output_type": "stream",
     "text": [
      "Muestra 0 se encuentra en el clúster: 3\n",
      "Muestra 1 se encuentra en el clúster: 2\n",
      "Muestra 2 se encuentra en el clúster: 3\n",
      "Muestra 3 se encuentra en el clúster: 0\n",
      "Muestra 4 se encuentra en el clúster: 0\n",
      "Muestra 5 se encuentra en el clúster: 0\n",
      "Muestra 6 se encuentra en el clúster: 0\n",
      "Muestra 7 se encuentra en el clúster: 0\n"
     ]
    }
   ],
   "source": [
    "#Utilicemos los datos de muestras y verifiquemos en que cluster se encuentran\n",
    "muestra1 = muestra1.fillna(0)\n",
    "muestra_prediccion = algoritmoKMeans.predict(muestra1)\n",
    "for i, pred in enumerate(muestra_prediccion):\n",
    "    print(\"Muestra\", i, \"se encuentra en el clúster:\", pred)"
   ]
  },
  {
   "cell_type": "code",
   "execution_count": 14,
   "id": "6a1e60e5",
   "metadata": {},
   "outputs": [],
   "source": [
    "cor = matriz1.corr()\n",
    "cor2 = mCorr.corr()"
   ]
  },
  {
   "cell_type": "code",
   "execution_count": 15,
   "id": "5a1a8723",
   "metadata": {},
   "outputs": [
    {
     "data": {
      "text/html": [
       "<div>\n",
       "<style scoped>\n",
       "    .dataframe tbody tr th:only-of-type {\n",
       "        vertical-align: middle;\n",
       "    }\n",
       "\n",
       "    .dataframe tbody tr th {\n",
       "        vertical-align: top;\n",
       "    }\n",
       "\n",
       "    .dataframe thead th {\n",
       "        text-align: right;\n",
       "    }\n",
       "</style>\n",
       "<table border=\"1\" class=\"dataframe\">\n",
       "  <thead>\n",
       "    <tr style=\"text-align: right;\">\n",
       "      <th></th>\n",
       "      <th>ExecutionTimeDays</th>\n",
       "      <th>InvocationsDays</th>\n",
       "      <th>http</th>\n",
       "      <th>event</th>\n",
       "      <th>orchestration</th>\n",
       "      <th>queue</th>\n",
       "      <th>storage</th>\n",
       "      <th>others</th>\n",
       "      <th>cluster</th>\n",
       "    </tr>\n",
       "  </thead>\n",
       "  <tbody>\n",
       "    <tr>\n",
       "      <th>0</th>\n",
       "      <td>-0.243874</td>\n",
       "      <td>0.024534</td>\n",
       "      <td>-1.144286</td>\n",
       "      <td>-0.189385</td>\n",
       "      <td>-0.346701</td>\n",
       "      <td>2.006687</td>\n",
       "      <td>-0.176154</td>\n",
       "      <td>-0.25722</td>\n",
       "      <td>1</td>\n",
       "    </tr>\n",
       "    <tr>\n",
       "      <th>1</th>\n",
       "      <td>-0.245032</td>\n",
       "      <td>0.010986</td>\n",
       "      <td>0.873907</td>\n",
       "      <td>-0.189385</td>\n",
       "      <td>-0.346701</td>\n",
       "      <td>-0.498334</td>\n",
       "      <td>-0.176154</td>\n",
       "      <td>-0.25722</td>\n",
       "      <td>0</td>\n",
       "    </tr>\n",
       "    <tr>\n",
       "      <th>2</th>\n",
       "      <td>-0.236464</td>\n",
       "      <td>85.614774</td>\n",
       "      <td>-1.144286</td>\n",
       "      <td>-0.189385</td>\n",
       "      <td>-0.346701</td>\n",
       "      <td>2.006687</td>\n",
       "      <td>-0.176154</td>\n",
       "      <td>-0.25722</td>\n",
       "      <td>6</td>\n",
       "    </tr>\n",
       "    <tr>\n",
       "      <th>3</th>\n",
       "      <td>-0.242531</td>\n",
       "      <td>0.087938</td>\n",
       "      <td>-1.144286</td>\n",
       "      <td>-0.189385</td>\n",
       "      <td>-0.346701</td>\n",
       "      <td>2.006687</td>\n",
       "      <td>-0.176154</td>\n",
       "      <td>-0.25722</td>\n",
       "      <td>1</td>\n",
       "    </tr>\n",
       "    <tr>\n",
       "      <th>4</th>\n",
       "      <td>-0.237012</td>\n",
       "      <td>-0.022083</td>\n",
       "      <td>0.873907</td>\n",
       "      <td>-0.189385</td>\n",
       "      <td>-0.346701</td>\n",
       "      <td>-0.498334</td>\n",
       "      <td>-0.176154</td>\n",
       "      <td>-0.25722</td>\n",
       "      <td>0</td>\n",
       "    </tr>\n",
       "    <tr>\n",
       "      <th>...</th>\n",
       "      <td>...</td>\n",
       "      <td>...</td>\n",
       "      <td>...</td>\n",
       "      <td>...</td>\n",
       "      <td>...</td>\n",
       "      <td>...</td>\n",
       "      <td>...</td>\n",
       "      <td>...</td>\n",
       "      <td>...</td>\n",
       "    </tr>\n",
       "    <tr>\n",
       "      <th>53656</th>\n",
       "      <td>-0.238984</td>\n",
       "      <td>-0.023937</td>\n",
       "      <td>0.873907</td>\n",
       "      <td>-0.189385</td>\n",
       "      <td>-0.346701</td>\n",
       "      <td>-0.498334</td>\n",
       "      <td>-0.176154</td>\n",
       "      <td>-0.25722</td>\n",
       "      <td>0</td>\n",
       "    </tr>\n",
       "    <tr>\n",
       "      <th>53657</th>\n",
       "      <td>-0.210825</td>\n",
       "      <td>-0.023937</td>\n",
       "      <td>0.873907</td>\n",
       "      <td>-0.189385</td>\n",
       "      <td>-0.346701</td>\n",
       "      <td>-0.498334</td>\n",
       "      <td>-0.176154</td>\n",
       "      <td>-0.25722</td>\n",
       "      <td>0</td>\n",
       "    </tr>\n",
       "    <tr>\n",
       "      <th>53658</th>\n",
       "      <td>0.215925</td>\n",
       "      <td>-0.023936</td>\n",
       "      <td>-1.144286</td>\n",
       "      <td>-0.189385</td>\n",
       "      <td>-0.346701</td>\n",
       "      <td>-0.498334</td>\n",
       "      <td>5.676850</td>\n",
       "      <td>-0.25722</td>\n",
       "      <td>5</td>\n",
       "    </tr>\n",
       "    <tr>\n",
       "      <th>53659</th>\n",
       "      <td>-0.201579</td>\n",
       "      <td>-0.023936</td>\n",
       "      <td>-1.144286</td>\n",
       "      <td>-0.189385</td>\n",
       "      <td>-0.346701</td>\n",
       "      <td>-0.498334</td>\n",
       "      <td>5.676850</td>\n",
       "      <td>-0.25722</td>\n",
       "      <td>5</td>\n",
       "    </tr>\n",
       "    <tr>\n",
       "      <th>53660</th>\n",
       "      <td>-0.173882</td>\n",
       "      <td>-0.023937</td>\n",
       "      <td>-1.144286</td>\n",
       "      <td>-0.189385</td>\n",
       "      <td>-0.346701</td>\n",
       "      <td>-0.498334</td>\n",
       "      <td>5.676850</td>\n",
       "      <td>-0.25722</td>\n",
       "      <td>5</td>\n",
       "    </tr>\n",
       "  </tbody>\n",
       "</table>\n",
       "<p>53661 rows × 9 columns</p>\n",
       "</div>"
      ],
      "text/plain": [
       "       ExecutionTimeDays  InvocationsDays      http     event  orchestration  \\\n",
       "0              -0.243874         0.024534 -1.144286 -0.189385      -0.346701   \n",
       "1              -0.245032         0.010986  0.873907 -0.189385      -0.346701   \n",
       "2              -0.236464        85.614774 -1.144286 -0.189385      -0.346701   \n",
       "3              -0.242531         0.087938 -1.144286 -0.189385      -0.346701   \n",
       "4              -0.237012        -0.022083  0.873907 -0.189385      -0.346701   \n",
       "...                  ...              ...       ...       ...            ...   \n",
       "53656          -0.238984        -0.023937  0.873907 -0.189385      -0.346701   \n",
       "53657          -0.210825        -0.023937  0.873907 -0.189385      -0.346701   \n",
       "53658           0.215925        -0.023936 -1.144286 -0.189385      -0.346701   \n",
       "53659          -0.201579        -0.023936 -1.144286 -0.189385      -0.346701   \n",
       "53660          -0.173882        -0.023937 -1.144286 -0.189385      -0.346701   \n",
       "\n",
       "          queue   storage   others  cluster  \n",
       "0      2.006687 -0.176154 -0.25722        1  \n",
       "1     -0.498334 -0.176154 -0.25722        0  \n",
       "2      2.006687 -0.176154 -0.25722        6  \n",
       "3      2.006687 -0.176154 -0.25722        1  \n",
       "4     -0.498334 -0.176154 -0.25722        0  \n",
       "...         ...       ...      ...      ...  \n",
       "53656 -0.498334 -0.176154 -0.25722        0  \n",
       "53657 -0.498334 -0.176154 -0.25722        0  \n",
       "53658 -0.498334  5.676850 -0.25722        5  \n",
       "53659 -0.498334  5.676850 -0.25722        5  \n",
       "53660 -0.498334  5.676850 -0.25722        5  \n",
       "\n",
       "[53661 rows x 9 columns]"
      ]
     },
     "execution_count": 15,
     "metadata": {},
     "output_type": "execute_result"
    }
   ],
   "source": [
    "matriz1['cluster'] = etiquetas\n",
    "matriz1"
   ]
  },
  {
   "cell_type": "code",
   "execution_count": 16,
   "id": "c9728c8c",
   "metadata": {},
   "outputs": [
    {
     "data": {
      "text/plain": [
       "cluster\n",
       "0    30229\n",
       "1    10483\n",
       "2     1856\n",
       "3     5699\n",
       "4     3305\n",
       "5     1588\n",
       "6        3\n",
       "7      498\n",
       "Name: cluster, dtype: int64"
      ]
     },
     "execution_count": 16,
     "metadata": {},
     "output_type": "execute_result"
    }
   ],
   "source": [
    "# para saber cantida de elementos por cluster\n",
    "grupo = matriz1.groupby('cluster')\n",
    "grupo['cluster'].count()"
   ]
  },
  {
   "cell_type": "markdown",
   "id": "69d94748",
   "metadata": {},
   "source": [
    "# resultado de agrupacion con funciones sin trigger timer"
   ]
  },
  {
   "cell_type": "markdown",
   "id": "481db88d",
   "metadata": {},
   "source": [
    "# grupo 1 "
   ]
  },
  {
   "cell_type": "code",
   "execution_count": 17,
   "id": "099b682f",
   "metadata": {},
   "outputs": [
    {
     "data": {
      "image/png": "[encoded data removed]",
      "text/plain": [
       "<Figure size 720x432 with 2 Axes>"
      ]
     },
     "metadata": {
      "needs_background": "light"
     },
     "output_type": "display_data"
    }
   ],
   "source": [
    "mask = np.zeros_like(matriz1.corr())\n",
    "mask[np.triu_indices_from(mask)] = True\n",
    "\n",
    "f, ax = plt.subplots(figsize=(10, 6))\n",
    "ax = sns.heatmap(grupo.get_group(0).corr(), square = True, annot = True, mask = mask)\n"
   ]
  },
  {
   "cell_type": "markdown",
   "id": "85b7bcb5",
   "metadata": {},
   "source": [
    "# grupo 2"
   ]
  },
  {
   "cell_type": "code",
   "execution_count": 18,
   "id": "e4beaf4f",
   "metadata": {},
   "outputs": [
    {
     "data": {
      "image/png": "[encoded data removed]",
      "text/plain": [
       "<Figure size 720x432 with 2 Axes>"
      ]
     },
     "metadata": {
      "needs_background": "light"
     },
     "output_type": "display_data"
    }
   ],
   "source": [
    "mask = np.zeros_like(matriz1.corr())\n",
    "mask[np.triu_indices_from(mask)] = True\n",
    "f, ax = plt.subplots(figsize=(10, 6))\n",
    "ax = sns.heatmap(grupo.get_group(1).corr(), square = True, annot = True, mask = mask)"
   ]
  },
  {
   "cell_type": "markdown",
   "id": "a5656747",
   "metadata": {},
   "source": [
    "# grupo 3"
   ]
  },
  {
   "cell_type": "code",
   "execution_count": 19,
   "id": "1f82b6ac",
   "metadata": {},
   "outputs": [
    {
     "data": {
      "image/png": "[encoded data removed]",
      "text/plain": [
       "<Figure size 720x432 with 2 Axes>"
      ]
     },
     "metadata": {
      "needs_background": "light"
     },
     "output_type": "display_data"
    }
   ],
   "source": [
    "mask = np.zeros_like(matriz1.corr())\n",
    "mask[np.triu_indices_from(mask)] = True\n",
    "f, ax = plt.subplots(figsize=(10, 6))\n",
    "ax = sns.heatmap(grupo.get_group(2).corr(), square = True, annot = True, mask = mask)"
   ]
  },
  {
   "cell_type": "markdown",
   "id": "9ebbe426",
   "metadata": {},
   "source": [
    "# grupo 4"
   ]
  },
  {
   "cell_type": "code",
   "execution_count": 20,
   "id": "2fa262cb",
   "metadata": {},
   "outputs": [
    {
     "data": {
      "image/png": "[encoded data removed]",
      "text/plain": [
       "<Figure size 720x432 with 2 Axes>"
      ]
     },
     "metadata": {
      "needs_background": "light"
     },
     "output_type": "display_data"
    }
   ],
   "source": [
    "mask = np.zeros_like(matriz1.corr())\n",
    "mask[np.triu_indices_from(mask)] = True\n",
    "f, ax = plt.subplots(figsize=(10, 6))\n",
    "ax = sns.heatmap(grupo.get_group(3).corr(), square = True, annot = True, mask = mask)"
   ]
  },
  {
   "cell_type": "markdown",
   "id": "526acf1e",
   "metadata": {},
   "source": [
    "# grupo 5"
   ]
  },
  {
   "cell_type": "code",
   "execution_count": 21,
   "id": "3bdc5474",
   "metadata": {},
   "outputs": [
    {
     "data": {
      "image/png": "[encoded data removed]",
      "text/plain": [
       "<Figure size 720x432 with 2 Axes>"
      ]
     },
     "metadata": {
      "needs_background": "light"
     },
     "output_type": "display_data"
    }
   ],
   "source": [
    "mask = np.zeros_like(matriz1.corr())\n",
    "mask[np.triu_indices_from(mask)] = True\n",
    "f, ax = plt.subplots(figsize=(10, 6))\n",
    "ax = sns.heatmap(grupo.get_group(4).corr(), square = True, annot = True, mask = mask)"
   ]
  },
  {
   "cell_type": "markdown",
   "id": "055eb08a",
   "metadata": {},
   "source": [
    "# grupo 6"
   ]
  },
  {
   "cell_type": "code",
   "execution_count": 22,
   "id": "264b32b7",
   "metadata": {},
   "outputs": [
    {
     "data": {
      "image/png": "[encoded data removed]",
      "text/plain": [
       "<Figure size 720x432 with 2 Axes>"
      ]
     },
     "metadata": {
      "needs_background": "light"
     },
     "output_type": "display_data"
    }
   ],
   "source": [
    "mask = np.zeros_like(matriz1.corr())\n",
    "mask[np.triu_indices_from(mask)] = True\n",
    "f, ax = plt.subplots(figsize=(10, 6))\n",
    "ax = sns.heatmap(grupo.get_group(5).corr(), square = True, annot = True, mask = mask)"
   ]
  },
  {
   "cell_type": "markdown",
   "id": "198eb548",
   "metadata": {},
   "source": [
    "# grupo 7"
   ]
  },
  {
   "cell_type": "code",
   "execution_count": 23,
   "id": "c1dcef5d",
   "metadata": {},
   "outputs": [
    {
     "data": {
      "image/png": "[encoded data removed]",
      "text/plain": [
       "<Figure size 720x432 with 2 Axes>"
      ]
     },
     "metadata": {
      "needs_background": "light"
     },
     "output_type": "display_data"
    }
   ],
   "source": [
    "mask = np.zeros_like(matriz1.corr())\n",
    "mask[np.triu_indices_from(mask)] = True\n",
    "f, ax = plt.subplots(figsize=(10, 6))\n",
    "ax = sns.heatmap(grupo.get_group(6).corr(), square = True, annot = True, mask = mask)"
   ]
  },
  {
   "cell_type": "markdown",
   "id": "6306e4ef",
   "metadata": {},
   "source": [
    "# grupo 8"
   ]
  },
  {
   "cell_type": "code",
   "execution_count": 24,
   "id": "163b5441",
   "metadata": {},
   "outputs": [
    {
     "data": {
      "image/png": "[encoded data removed]",
      "text/plain": [
       "<Figure size 720x432 with 2 Axes>"
      ]
     },
     "metadata": {
      "needs_background": "light"
     },
     "output_type": "display_data"
    }
   ],
   "source": [
    "mask = np.zeros_like(matriz1.corr())\n",
    "mask[np.triu_indices_from(mask)] = True\n",
    "f, ax = plt.subplots(figsize=(10, 6))\n",
    "ax = sns.heatmap(grupo.get_group(7).corr(), square = True, annot = True, mask = mask)"
   ]
  },
  {
   "cell_type": "code",
   "execution_count": 25,
   "id": "53b62127",
   "metadata": {},
   "outputs": [
    {
     "data": {
      "image/png": "[encoded data removed]",
      "text/plain": [
       "<Figure size 720x432 with 2 Axes>"
      ]
     },
     "metadata": {
      "needs_background": "light"
     },
     "output_type": "display_data"
    }
   ],
   "source": [
    "mask = np.zeros_like(matriz1.corr())\n",
    "mask[np.triu_indices_from(mask)] = True\n",
    "\n",
    "f, ax = plt.subplots(figsize=(10, 6))\n",
    "ax = sns.heatmap(matriz1.corr(), square = True, annot = True, mask = mask)\n"
   ]
  },
  {
   "cell_type": "code",
   "execution_count": 29,
   "id": "bf466075",
   "metadata": {
    "scrolled": true
   },
   "outputs": [
    {
     "data": {
      "text/plain": [
       "pandas.core.frame.DataFrame"
      ]
     },
     "execution_count": 29,
     "metadata": {},
     "output_type": "execute_result"
    }
   ],
   "source": [
    "#\n",
    "type(grupo.get_group(7))\n",
    "gCorr = mCorr"
   ]
  },
  {
   "cell_type": "markdown",
   "id": "8ff4c372",
   "metadata": {},
   "source": [
    "# funciones con solo timer"
   ]
  },
  {
   "cell_type": "code",
   "execution_count": 3,
   "id": "96abca4f",
   "metadata": {},
   "outputs": [
    {
     "data": {
      "text/html": [
       "<div>\n",
       "<style scoped>\n",
       "    .dataframe tbody tr th:only-of-type {\n",
       "        vertical-align: middle;\n",
       "    }\n",
       "\n",
       "    .dataframe tbody tr th {\n",
       "        vertical-align: top;\n",
       "    }\n",
       "\n",
       "    .dataframe thead th {\n",
       "        text-align: right;\n",
       "    }\n",
       "</style>\n",
       "<table border=\"1\" class=\"dataframe\">\n",
       "  <thead>\n",
       "    <tr style=\"text-align: right;\">\n",
       "      <th></th>\n",
       "      <th>ExecutionTimeDays</th>\n",
       "      <th>InvocationsDays</th>\n",
       "    </tr>\n",
       "  </thead>\n",
       "  <tbody>\n",
       "    <tr>\n",
       "      <th>0</th>\n",
       "      <td>83.000000</td>\n",
       "      <td>2881.0</td>\n",
       "    </tr>\n",
       "    <tr>\n",
       "      <th>1</th>\n",
       "      <td>179.785714</td>\n",
       "      <td>366.0</td>\n",
       "    </tr>\n",
       "    <tr>\n",
       "      <th>2</th>\n",
       "      <td>367.642857</td>\n",
       "      <td>288.0</td>\n",
       "    </tr>\n",
       "    <tr>\n",
       "      <th>3</th>\n",
       "      <td>0.000000</td>\n",
       "      <td>1441.0</td>\n",
       "    </tr>\n",
       "    <tr>\n",
       "      <th>4</th>\n",
       "      <td>167.000000</td>\n",
       "      <td>705.0</td>\n",
       "    </tr>\n",
       "    <tr>\n",
       "      <th>...</th>\n",
       "      <td>...</td>\n",
       "      <td>...</td>\n",
       "    </tr>\n",
       "    <tr>\n",
       "      <th>20030</th>\n",
       "      <td>198590.000000</td>\n",
       "      <td>2.0</td>\n",
       "    </tr>\n",
       "    <tr>\n",
       "      <th>20031</th>\n",
       "      <td>157.000000</td>\n",
       "      <td>1.0</td>\n",
       "    </tr>\n",
       "    <tr>\n",
       "      <th>20032</th>\n",
       "      <td>461.000000</td>\n",
       "      <td>1.0</td>\n",
       "    </tr>\n",
       "    <tr>\n",
       "      <th>20033</th>\n",
       "      <td>157.000000</td>\n",
       "      <td>1.0</td>\n",
       "    </tr>\n",
       "    <tr>\n",
       "      <th>20034</th>\n",
       "      <td>198.000000</td>\n",
       "      <td>478.0</td>\n",
       "    </tr>\n",
       "  </tbody>\n",
       "</table>\n",
       "<p>20035 rows × 2 columns</p>\n",
       "</div>"
      ],
      "text/plain": [
       "       ExecutionTimeDays  InvocationsDays\n",
       "0              83.000000           2881.0\n",
       "1             179.785714            366.0\n",
       "2             367.642857            288.0\n",
       "3               0.000000           1441.0\n",
       "4             167.000000            705.0\n",
       "...                  ...              ...\n",
       "20030      198590.000000              2.0\n",
       "20031         157.000000              1.0\n",
       "20032         461.000000              1.0\n",
       "20033         157.000000              1.0\n",
       "20034         198.000000            478.0\n",
       "\n",
       "[20035 rows x 2 columns]"
      ]
     },
     "execution_count": 3,
     "metadata": {},
     "output_type": "execute_result"
    }
   ],
   "source": [
    "matriz2 = matriz.copy()\n",
    "matriz2 = matriz2[matriz2['timer'] >= 1]\n",
    "matriz2.reset_index(drop=True, inplace=True)\n",
    "matriz2 = matriz2.drop(['HashFunction', 'http', 'event', 'orchestration', 'queue', 'storage', 'others', 'timer'], axis =1)\n",
    "matriz2"
   ]
  },
  {
   "cell_type": "code",
   "execution_count": 196,
   "id": "18ab061a",
   "metadata": {},
   "outputs": [
    {
     "data": {
      "text/html": [
       "<div>\n",
       "<style scoped>\n",
       "    .dataframe tbody tr th:only-of-type {\n",
       "        vertical-align: middle;\n",
       "    }\n",
       "\n",
       "    .dataframe tbody tr th {\n",
       "        vertical-align: top;\n",
       "    }\n",
       "\n",
       "    .dataframe thead th {\n",
       "        text-align: right;\n",
       "    }\n",
       "</style>\n",
       "<table border=\"1\" class=\"dataframe\">\n",
       "  <thead>\n",
       "    <tr style=\"text-align: right;\">\n",
       "      <th></th>\n",
       "      <th>ExecutionTimeDays</th>\n",
       "      <th>InvocationsDays</th>\n",
       "    </tr>\n",
       "  </thead>\n",
       "  <tbody>\n",
       "    <tr>\n",
       "      <th>0</th>\n",
       "      <td>83.000000</td>\n",
       "      <td>2881.0</td>\n",
       "    </tr>\n",
       "    <tr>\n",
       "      <th>1</th>\n",
       "      <td>179.785714</td>\n",
       "      <td>366.0</td>\n",
       "    </tr>\n",
       "    <tr>\n",
       "      <th>2</th>\n",
       "      <td>367.642857</td>\n",
       "      <td>288.0</td>\n",
       "    </tr>\n",
       "    <tr>\n",
       "      <th>3</th>\n",
       "      <td>0.000000</td>\n",
       "      <td>1441.0</td>\n",
       "    </tr>\n",
       "    <tr>\n",
       "      <th>4</th>\n",
       "      <td>167.000000</td>\n",
       "      <td>705.0</td>\n",
       "    </tr>\n",
       "    <tr>\n",
       "      <th>...</th>\n",
       "      <td>...</td>\n",
       "      <td>...</td>\n",
       "    </tr>\n",
       "    <tr>\n",
       "      <th>20022</th>\n",
       "      <td>198590.000000</td>\n",
       "      <td>2.0</td>\n",
       "    </tr>\n",
       "    <tr>\n",
       "      <th>20023</th>\n",
       "      <td>157.000000</td>\n",
       "      <td>1.0</td>\n",
       "    </tr>\n",
       "    <tr>\n",
       "      <th>20024</th>\n",
       "      <td>461.000000</td>\n",
       "      <td>1.0</td>\n",
       "    </tr>\n",
       "    <tr>\n",
       "      <th>20025</th>\n",
       "      <td>157.000000</td>\n",
       "      <td>1.0</td>\n",
       "    </tr>\n",
       "    <tr>\n",
       "      <th>20026</th>\n",
       "      <td>198.000000</td>\n",
       "      <td>478.0</td>\n",
       "    </tr>\n",
       "  </tbody>\n",
       "</table>\n",
       "<p>20027 rows × 2 columns</p>\n",
       "</div>"
      ],
      "text/plain": [
       "       ExecutionTimeDays  InvocationsDays\n",
       "0              83.000000           2881.0\n",
       "1             179.785714            366.0\n",
       "2             367.642857            288.0\n",
       "3               0.000000           1441.0\n",
       "4             167.000000            705.0\n",
       "...                  ...              ...\n",
       "20022      198590.000000              2.0\n",
       "20023         157.000000              1.0\n",
       "20024         461.000000              1.0\n",
       "20025         157.000000              1.0\n",
       "20026         198.000000            478.0\n",
       "\n",
       "[20027 rows x 2 columns]"
      ]
     },
     "execution_count": 196,
     "metadata": {},
     "output_type": "execute_result"
    }
   ],
   "source": [
    "muestra2 = pd.DataFrame(matriz2.loc[indices], \n",
    "                       columns = matriz2.keys()).reset_index(drop = True) # muetras de funciones sin timer\n",
    "\n",
    "matriz2 = matriz2.drop(indices, axis = 0).reset_index(drop = True)\n",
    "matriz2"
   ]
  },
  {
   "cell_type": "code",
   "execution_count": 197,
   "id": "033dc519",
   "metadata": {},
   "outputs": [
    {
     "data": {
      "text/html": [
       "<div>\n",
       "<style scoped>\n",
       "    .dataframe tbody tr th:only-of-type {\n",
       "        vertical-align: middle;\n",
       "    }\n",
       "\n",
       "    .dataframe tbody tr th {\n",
       "        vertical-align: top;\n",
       "    }\n",
       "\n",
       "    .dataframe thead th {\n",
       "        text-align: right;\n",
       "    }\n",
       "</style>\n",
       "<table border=\"1\" class=\"dataframe\">\n",
       "  <thead>\n",
       "    <tr style=\"text-align: right;\">\n",
       "      <th></th>\n",
       "      <th>ExecutionTimeDays</th>\n",
       "      <th>InvocationsDays</th>\n",
       "    </tr>\n",
       "  </thead>\n",
       "  <tbody>\n",
       "    <tr>\n",
       "      <th>0</th>\n",
       "      <td>-0.314719</td>\n",
       "      <td>0.336423</td>\n",
       "    </tr>\n",
       "    <tr>\n",
       "      <th>1</th>\n",
       "      <td>-0.313033</td>\n",
       "      <td>-0.091778</td>\n",
       "    </tr>\n",
       "    <tr>\n",
       "      <th>2</th>\n",
       "      <td>-0.309761</td>\n",
       "      <td>-0.105058</td>\n",
       "    </tr>\n",
       "    <tr>\n",
       "      <th>3</th>\n",
       "      <td>-0.316164</td>\n",
       "      <td>0.091251</td>\n",
       "    </tr>\n",
       "    <tr>\n",
       "      <th>4</th>\n",
       "      <td>-0.313255</td>\n",
       "      <td>-0.034060</td>\n",
       "    </tr>\n",
       "    <tr>\n",
       "      <th>...</th>\n",
       "      <td>...</td>\n",
       "      <td>...</td>\n",
       "    </tr>\n",
       "    <tr>\n",
       "      <th>20022</th>\n",
       "      <td>3.142902</td>\n",
       "      <td>-0.153752</td>\n",
       "    </tr>\n",
       "    <tr>\n",
       "      <th>20023</th>\n",
       "      <td>-0.313430</td>\n",
       "      <td>-0.153922</td>\n",
       "    </tr>\n",
       "    <tr>\n",
       "      <th>20024</th>\n",
       "      <td>-0.308135</td>\n",
       "      <td>-0.153922</td>\n",
       "    </tr>\n",
       "    <tr>\n",
       "      <th>20025</th>\n",
       "      <td>-0.313430</td>\n",
       "      <td>-0.153922</td>\n",
       "    </tr>\n",
       "    <tr>\n",
       "      <th>20026</th>\n",
       "      <td>-0.312715</td>\n",
       "      <td>-0.072709</td>\n",
       "    </tr>\n",
       "  </tbody>\n",
       "</table>\n",
       "<p>20027 rows × 2 columns</p>\n",
       "</div>"
      ],
      "text/plain": [
       "       ExecutionTimeDays  InvocationsDays\n",
       "0              -0.314719         0.336423\n",
       "1              -0.313033        -0.091778\n",
       "2              -0.309761        -0.105058\n",
       "3              -0.316164         0.091251\n",
       "4              -0.313255        -0.034060\n",
       "...                  ...              ...\n",
       "20022           3.142902        -0.153752\n",
       "20023          -0.313430        -0.153922\n",
       "20024          -0.308135        -0.153922\n",
       "20025          -0.313430        -0.153922\n",
       "20026          -0.312715        -0.072709\n",
       "\n",
       "[20027 rows x 2 columns]"
      ]
     },
     "execution_count": 197,
     "metadata": {},
     "output_type": "execute_result"
    }
   ],
   "source": [
    "\n",
    "# eliminamos columna de hasgfuncion y normalizamos \n",
    "mCorr2 = matriz2.copy()\n",
    "matriz2 = matriz2.apply(zscore)\n",
    "muestra2 = muestra2.apply(zscore)\n",
    "\n",
    "matriz2"
   ]
  },
  {
   "cell_type": "code",
   "execution_count": 198,
   "id": "e936061d",
   "metadata": {},
   "outputs": [],
   "source": [
    "Y = matriz2.copy()"
   ]
  },
  {
   "cell_type": "code",
   "execution_count": 171,
   "id": "27935f8b",
   "metadata": {},
   "outputs": [
    {
     "data": {
      "image/png": "[encoded data removed]",
      "text/plain": [
       "<Figure size 720x432 with 1 Axes>"
      ]
     },
     "metadata": {
      "needs_background": "light"
     },
     "output_type": "display_data"
    }
   ],
   "source": [
    "## Hallar el valor óptimo de K ##\n",
    "# medoto del codo \n",
    "inercia2 = []\n",
    "#inercia suma de distancias cuadradas de la muetras a su centro d cluster \n",
    "for i in range(1, 20):\n",
    "    algoritmoKMeans = KMeans(n_clusters = i, init = 'k-means++', \n",
    "                       max_iter = 300, n_init = 10)\n",
    "    algoritmoKMeans.fit(Y)\n",
    "    #Para cada K, se calcula la suma total del cuadrado dentro del clúster\n",
    "    inercia2.append(algoritmoKMeans.inertia_)\n",
    "\n",
    "    \n",
    "#Se traza la curva de la suma de errores cuadráticos\n",
    "plt.figure(figsize=[10,6])\n",
    "plt.title('Método del Codo')\n",
    "plt.xlabel('No. de clusters')\n",
    "plt.ylabel('Inercia')\n",
    "plt.plot(list(range(1, 20)), inercia2, marker='o')\n",
    "plt.ion()"
   ]
  },
  {
   "cell_type": "code",
   "execution_count": 174,
   "id": "c73368bb",
   "metadata": {},
   "outputs": [
    {
     "data": {
      "image/png": "[encoded data removed]",
      "text/plain": [
       "<Figure size 720x432 with 1 Axes>"
      ]
     },
     "metadata": {
      "needs_background": "light"
     },
     "output_type": "display_data"
    }
   ],
   "source": [
    "from sklearn.metrics import silhouette_score\n",
    "silueta2 = []\n",
    "for k in range(2, 20):\n",
    "    algoritmoKMeans = KMeans(n_clusters = k, init = 'k-means++', \n",
    "                       max_iter = 300, n_init = 10)\n",
    "    algoritmoKMeans.fit(Y)\n",
    "    labels = algoritmoKMeans.labels_\n",
    "    \n",
    "    silueta2.append(silhouette_score(Y, labels, metric = 'euclidean'))\n",
    "    \n",
    "plt.figure(figsize=[10,6])\n",
    "plt.title('Método de la Silueta')\n",
    "plt.xlabel('No. de clusters')\n",
    "plt.ylabel('Puntaje de la Silueta')\n",
    "plt.plot(list(range(2, 20)), silueta2, 'bx-')\n",
    "plt.ion()"
   ]
  },
  {
   "cell_type": "code",
   "execution_count": 199,
   "id": "2f52e704",
   "metadata": {},
   "outputs": [],
   "source": [
    "# K = 3\n",
    "## Se aplica el algoritmo de clustering ##\n",
    "#Se define el algoritmo junto con el valor de K\n",
    "algoritmoKMeans2 = KMeans(n_clusters = 3, init = 'k-means++', \n",
    "                   max_iter = 300, n_init = 10)"
   ]
  },
  {
   "cell_type": "code",
   "execution_count": 200,
   "id": "da41f93b",
   "metadata": {},
   "outputs": [
    {
     "data": {
      "text/plain": [
       "KMeans(n_clusters=3)"
      ]
     },
     "execution_count": 200,
     "metadata": {},
     "output_type": "execute_result"
    }
   ],
   "source": [
    "#Se entrena el algoritmo\n",
    "algoritmoKMeans2.fit(Y)"
   ]
  },
  {
   "cell_type": "code",
   "execution_count": 201,
   "id": "21c926dc",
   "metadata": {},
   "outputs": [
    {
     "name": "stdout",
     "output_type": "stream",
     "text": [
      "[[-0.15476315 -0.06329253]\n",
      " [ 4.77512144 -0.14719893]\n",
      " [-0.31403194 12.8836512 ]]\n",
      "[0 0 0 ... 0 0 0]\n"
     ]
    },
    {
     "data": {
      "text/plain": [
       "numpy.ndarray"
      ]
     },
     "execution_count": 201,
     "metadata": {},
     "output_type": "execute_result"
    }
   ],
   "source": [
    "#Se obtiene los datos de los centroides y las etiquetas\n",
    "centroides2, etiquetas2 = algoritmoKMeans2.cluster_centers_, algoritmoKMeans2.labels_\n",
    "print (centroides2)\n",
    "print (etiquetas2)# a que cluster pertenece cada dato del dataset \n",
    "type(etiquetas2)\n",
    "    "
   ]
  },
  {
   "cell_type": "code",
   "execution_count": 206,
   "id": "cd3e98c8",
   "metadata": {},
   "outputs": [
    {
     "name": "stdout",
     "output_type": "stream",
     "text": [
      "Muestra 0 se encuentra en el clúster: 0\n",
      "Muestra 1 se encuentra en el clúster: 0\n",
      "Muestra 2 se encuentra en el clúster: 0\n",
      "Muestra 3 se encuentra en el clúster: 0\n",
      "Muestra 4 se encuentra en el clúster: 0\n",
      "Muestra 5 se encuentra en el clúster: 0\n",
      "Muestra 6 se encuentra en el clúster: 0\n",
      "Muestra 7 se encuentra en el clúster: 0\n"
     ]
    }
   ],
   "source": [
    "#Utilicemos los datos de muestras y verifiquemos en que cluster se encuentran\n",
    "muestra2 = muestra2.fillna(0)\n",
    "muestra_prediccion2 = algoritmoKMeans2.predict(muestra2)\n",
    "for i, pred in enumerate(muestra_prediccion2):\n",
    "    print(\"Muestra\", i, \"se encuentra en el clúster:\", pred)"
   ]
  },
  {
   "cell_type": "code",
   "execution_count": 207,
   "id": "9525dc96",
   "metadata": {},
   "outputs": [
    {
     "data": {
      "text/html": [
       "<div>\n",
       "<style scoped>\n",
       "    .dataframe tbody tr th:only-of-type {\n",
       "        vertical-align: middle;\n",
       "    }\n",
       "\n",
       "    .dataframe tbody tr th {\n",
       "        vertical-align: top;\n",
       "    }\n",
       "\n",
       "    .dataframe thead th {\n",
       "        text-align: right;\n",
       "    }\n",
       "</style>\n",
       "<table border=\"1\" class=\"dataframe\">\n",
       "  <thead>\n",
       "    <tr style=\"text-align: right;\">\n",
       "      <th></th>\n",
       "      <th>ExecutionTimeDays</th>\n",
       "      <th>InvocationsDays</th>\n",
       "      <th>cluster</th>\n",
       "    </tr>\n",
       "  </thead>\n",
       "  <tbody>\n",
       "    <tr>\n",
       "      <th>0</th>\n",
       "      <td>-0.314719</td>\n",
       "      <td>0.336423</td>\n",
       "      <td>0</td>\n",
       "    </tr>\n",
       "    <tr>\n",
       "      <th>1</th>\n",
       "      <td>-0.313033</td>\n",
       "      <td>-0.091778</td>\n",
       "      <td>0</td>\n",
       "    </tr>\n",
       "    <tr>\n",
       "      <th>2</th>\n",
       "      <td>-0.309761</td>\n",
       "      <td>-0.105058</td>\n",
       "      <td>0</td>\n",
       "    </tr>\n",
       "    <tr>\n",
       "      <th>3</th>\n",
       "      <td>-0.316164</td>\n",
       "      <td>0.091251</td>\n",
       "      <td>0</td>\n",
       "    </tr>\n",
       "    <tr>\n",
       "      <th>4</th>\n",
       "      <td>-0.313255</td>\n",
       "      <td>-0.034060</td>\n",
       "      <td>0</td>\n",
       "    </tr>\n",
       "    <tr>\n",
       "      <th>...</th>\n",
       "      <td>...</td>\n",
       "      <td>...</td>\n",
       "      <td>...</td>\n",
       "    </tr>\n",
       "    <tr>\n",
       "      <th>20022</th>\n",
       "      <td>3.142902</td>\n",
       "      <td>-0.153752</td>\n",
       "      <td>1</td>\n",
       "    </tr>\n",
       "    <tr>\n",
       "      <th>20023</th>\n",
       "      <td>-0.313430</td>\n",
       "      <td>-0.153922</td>\n",
       "      <td>0</td>\n",
       "    </tr>\n",
       "    <tr>\n",
       "      <th>20024</th>\n",
       "      <td>-0.308135</td>\n",
       "      <td>-0.153922</td>\n",
       "      <td>0</td>\n",
       "    </tr>\n",
       "    <tr>\n",
       "      <th>20025</th>\n",
       "      <td>-0.313430</td>\n",
       "      <td>-0.153922</td>\n",
       "      <td>0</td>\n",
       "    </tr>\n",
       "    <tr>\n",
       "      <th>20026</th>\n",
       "      <td>-0.312715</td>\n",
       "      <td>-0.072709</td>\n",
       "      <td>0</td>\n",
       "    </tr>\n",
       "  </tbody>\n",
       "</table>\n",
       "<p>20027 rows × 3 columns</p>\n",
       "</div>"
      ],
      "text/plain": [
       "       ExecutionTimeDays  InvocationsDays  cluster\n",
       "0              -0.314719         0.336423        0\n",
       "1              -0.313033        -0.091778        0\n",
       "2              -0.309761        -0.105058        0\n",
       "3              -0.316164         0.091251        0\n",
       "4              -0.313255        -0.034060        0\n",
       "...                  ...              ...      ...\n",
       "20022           3.142902        -0.153752        1\n",
       "20023          -0.313430        -0.153922        0\n",
       "20024          -0.308135        -0.153922        0\n",
       "20025          -0.313430        -0.153922        0\n",
       "20026          -0.312715        -0.072709        0\n",
       "\n",
       "[20027 rows x 3 columns]"
      ]
     },
     "execution_count": 207,
     "metadata": {},
     "output_type": "execute_result"
    }
   ],
   "source": [
    "matriz2['cluster'] = etiquetas2\n",
    "matriz2"
   ]
  },
  {
   "cell_type": "code",
   "execution_count": 208,
   "id": "b1279ed6",
   "metadata": {},
   "outputs": [
    {
     "data": {
      "text/plain": [
       "cluster\n",
       "0    19293\n",
       "1      632\n",
       "2      102\n",
       "Name: cluster, dtype: int64"
      ]
     },
     "execution_count": 208,
     "metadata": {},
     "output_type": "execute_result"
    }
   ],
   "source": [
    "grupo2 = matriz2.groupby('cluster')\n",
    "grupo2['cluster'].count()"
   ]
  },
  {
   "cell_type": "markdown",
   "id": "64acc618",
   "metadata": {},
   "source": [
    "# grupo 1 "
   ]
  },
  {
   "cell_type": "code",
   "execution_count": 216,
   "id": "aba4ce71",
   "metadata": {},
   "outputs": [
    {
     "data": {
      "image/png": "[encoded data removed]",
      "text/plain": [
       "<Figure size 432x360 with 2 Axes>"
      ]
     },
     "metadata": {
      "needs_background": "light"
     },
     "output_type": "display_data"
    }
   ],
   "source": [
    "mask = np.zeros_like(matriz2.corr())\n",
    "mask[np.triu_indices_from(mask)] = True\n",
    "\n",
    "f, ax = plt.subplots(figsize=(6, 5))\n",
    "ax = sns.heatmap(grupo2.get_group(0).corr(), square = True, annot = True, mask = mask)"
   ]
  },
  {
   "cell_type": "markdown",
   "id": "8622ba25",
   "metadata": {},
   "source": [
    "# grupo 2"
   ]
  },
  {
   "cell_type": "code",
   "execution_count": 217,
   "id": "61a5f788",
   "metadata": {},
   "outputs": [
    {
     "data": {
      "image/png": "[encoded data removed]",
      "text/plain": [
       "<Figure size 432x360 with 2 Axes>"
      ]
     },
     "metadata": {
      "needs_background": "light"
     },
     "output_type": "display_data"
    }
   ],
   "source": [
    "mask = np.zeros_like(matriz2.corr())\n",
    "mask[np.triu_indices_from(mask)] = True\n",
    "\n",
    "f, ax = plt.subplots(figsize=(6, 5))\n",
    "ax = sns.heatmap(grupo2.get_group(1).corr(), square = True, annot = True, mask = mask)"
   ]
  },
  {
   "cell_type": "markdown",
   "id": "9dbb6606",
   "metadata": {},
   "source": [
    "# grupo 3"
   ]
  },
  {
   "cell_type": "code",
   "execution_count": 219,
   "id": "af6cf8a7",
   "metadata": {},
   "outputs": [
    {
     "data": {
      "image/png": "[encoded data removed]",
      "text/plain": [
       "<Figure size 432x360 with 2 Axes>"
      ]
     },
     "metadata": {
      "needs_background": "light"
     },
     "output_type": "display_data"
    }
   ],
   "source": [
    "mask = np.zeros_like(matriz2.corr())\n",
    "mask[np.triu_indices_from(mask)] = True\n",
    "\n",
    "f, ax = plt.subplots(figsize=(6, 5))\n",
    "ax = sns.heatmap(grupo2.get_group(2).corr(), square = True, annot = True, mask = mask)"
   ]
  },
  {
   "cell_type": "code",
   "execution_count": 222,
   "id": "aa4775c2",
   "metadata": {
    "scrolled": true
   },
   "outputs": [
    {
     "data": {
      "text/plain": [
       "<AxesSubplot:>"
      ]
     },
     "execution_count": 222,
     "metadata": {},
     "output_type": "execute_result"
    },
    {
     "data": {
      "image/png": "[encoded data removed]",
      "text/plain": [
       "<Figure size 432x288 with 2 Axes>"
      ]
     },
     "metadata": {
      "needs_background": "light"
     },
     "output_type": "display_data"
    }
   ],
   "source": [
    "sns.heatmap(matriz2.drop(['cluster'], axis = 1).corr(), square = True, annot = True)"
   ]
  },
  {
   "cell_type": "markdown",
   "id": "d5a67239",
   "metadata": {},
   "source": [
    "# estaditicas"
   ]
  },
  {
   "cell_type": "code",
   "execution_count": 4,
   "id": "9e6757b8",
   "metadata": {},
   "outputs": [
    {
     "data": {
      "text/html": [
       "<div>\n",
       "<style scoped>\n",
       "    .dataframe tbody tr th:only-of-type {\n",
       "        vertical-align: middle;\n",
       "    }\n",
       "\n",
       "    .dataframe tbody tr th {\n",
       "        vertical-align: top;\n",
       "    }\n",
       "\n",
       "    .dataframe thead th {\n",
       "        text-align: right;\n",
       "    }\n",
       "</style>\n",
       "<table border=\"1\" class=\"dataframe\">\n",
       "  <thead>\n",
       "    <tr style=\"text-align: right;\">\n",
       "      <th></th>\n",
       "      <th>ExecutionTimeDays</th>\n",
       "      <th>InvocationsDays</th>\n",
       "    </tr>\n",
       "  </thead>\n",
       "  <tbody>\n",
       "    <tr>\n",
       "      <th>count</th>\n",
       "      <td>20035.000000</td>\n",
       "      <td>20035.000000</td>\n",
       "    </tr>\n",
       "    <tr>\n",
       "      <th>mean</th>\n",
       "      <td>18149.096936</td>\n",
       "      <td>904.735962</td>\n",
       "    </tr>\n",
       "    <tr>\n",
       "      <th>std</th>\n",
       "      <td>57403.058973</td>\n",
       "      <td>5872.406664</td>\n",
       "    </tr>\n",
       "    <tr>\n",
       "      <th>min</th>\n",
       "      <td>-2763.083333</td>\n",
       "      <td>1.000000</td>\n",
       "    </tr>\n",
       "    <tr>\n",
       "      <th>25%</th>\n",
       "      <td>300.107143</td>\n",
       "      <td>1.000000</td>\n",
       "    </tr>\n",
       "    <tr>\n",
       "      <th>50%</th>\n",
       "      <td>1428.545455</td>\n",
       "      <td>47.000000</td>\n",
       "    </tr>\n",
       "    <tr>\n",
       "      <th>75%</th>\n",
       "      <td>8147.428571</td>\n",
       "      <td>288.000000</td>\n",
       "    </tr>\n",
       "    <tr>\n",
       "      <th>max</th>\n",
       "      <td>886277.000000</td>\n",
       "      <td>86699.000000</td>\n",
       "    </tr>\n",
       "  </tbody>\n",
       "</table>\n",
       "</div>"
      ],
      "text/plain": [
       "       ExecutionTimeDays  InvocationsDays\n",
       "count       20035.000000     20035.000000\n",
       "mean        18149.096936       904.735962\n",
       "std         57403.058973      5872.406664\n",
       "min         -2763.083333         1.000000\n",
       "25%           300.107143         1.000000\n",
       "50%          1428.545455        47.000000\n",
       "75%          8147.428571       288.000000\n",
       "max        886277.000000     86699.000000"
      ]
     },
     "execution_count": 4,
     "metadata": {},
     "output_type": "execute_result"
    }
   ],
   "source": [
    "matriz2.describe()"
   ]
  }
 ],
 "metadata": {
  "kernelspec": {
   "display_name": "Python 3",
   "language": "python",
   "name": "python3"
  },
  "language_info": {
   "codemirror_mode": {
    "name": "ipython",
    "version": 3
   },
   "file_extension": ".py",
   "mimetype": "text/x-python",
   "name": "python",
   "nbconvert_exporter": "python",
   "pygments_lexer": "ipython3",
   "version": "3.8.8"
  }
 },
 "nbformat": 4,
 "nbformat_minor": 5
}
