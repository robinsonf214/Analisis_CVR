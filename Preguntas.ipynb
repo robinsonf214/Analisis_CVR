{
 "cells": [
  {
   "cell_type": "code",
   "execution_count": 1,
   "id": "c10a2826",
   "metadata": {},
   "outputs": [],
   "source": [
    "import pandas as pd\n",
    "import numpy as np\n",
    "import matplotlib.pyplot as plt\n",
    "import seaborn as sns\n",
    "import sys\n",
    "import time\n",
    "from pathlib import Path\n",
    "from tqdm import tqdm"
   ]
  },
  {
   "cell_type": "code",
   "execution_count": 2,
   "id": "2443a965",
   "metadata": {},
   "outputs": [],
   "source": [
    "def invoc_per_func(ruta = Path.cwd()):\n",
    "    return  [arch.name for arch in Path(ruta).glob('invocations_per_function_md.anon.d[01][0-9].csv')]\n",
    "\n",
    "invoc_func = invoc_per_func() "
   ]
  },
  {
   "cell_type": "code",
   "execution_count": 3,
   "id": "d9bc8d06",
   "metadata": {},
   "outputs": [],
   "source": [
    "# recorre invocations_per_function_md.anon para saber el promedio de veces que se invoca cada funcion en los 14 dias \n",
    "def add_days():\n",
    "    invoc_per_func= pd.DataFrame()\n",
    "    with tqdm(total=len(invoc_func), file=sys.stdout) as pbar:\n",
    "        cont_arch = 0\n",
    "        invoc_per_func = pd.read_csv(\"invocations_per_function_md.anon.d01.csv\")\n",
    "        cont_arch = 1\n",
    "        for arch in invoc_func:\n",
    "            if(arch == \"invocations_per_function_md.anon.d01.csv\"):\n",
    "                invoc_per_func[\"ivocationDay\"] = invoc_per_func.iloc[:, 4:].sum(axis=1)\n",
    "                invoc_per_func = invoc_per_func[[\"HashFunction\", \"Trigger\", \"ivocationDay\"]]\n",
    "                pbar.update(1)\n",
    "                continue                                           \n",
    "            else:\n",
    "                aux = pd.read_csv(arch)\n",
    "                aux[\"ivocationDay\"] = aux.iloc[:, 4:].sum(axis=1)\n",
    "                aux = aux[[\"HashFunction\", \"Trigger\", \"ivocationDay\"]]\n",
    "\n",
    "                invoc_per_func = invoc_per_func.merge(aux, on=['HashFunction','Trigger'], how='outer',suffixes=(\"_\"+str(cont_arch), \"_\"+str(cont_arch+1)))\n",
    "                cont_arch+=1\n",
    "                aux = pd.DataFrame()\n",
    "            pbar.set_description('procesando archivo %d' %(cont_arch))\n",
    "            pbar.update(1)\n",
    "            \n",
    "        #invoc_per_func[\"InvocationsDays\"] = invoc_per_func.iloc[:, 2:].mean(axis =1)\n",
    "        #invoc_per_func = invoc_per_func[[\"HashFunction\", \"Trigger\", \"InvocationsDays\"]]\n",
    "        #invoc_per_func\n",
    "\n",
    "    return invoc_per_func"
   ]
  },
  {
   "cell_type": "code",
   "execution_count": 4,
   "id": "112e76d1",
   "metadata": {},
   "outputs": [
    {
     "name": "stdout",
     "output_type": "stream",
     "text": [
      "procesando archivo 14: 100%|███████████████████████████████████████████████████████████| 14/14 [01:42<00:00,  7.30s/it]\n"
     ]
    }
   ],
   "source": [
    "aux=add_days()"
   ]
  },
  {
   "cell_type": "code",
   "execution_count": 28,
   "id": "254e0864",
   "metadata": {},
   "outputs": [
    {
     "data": {
      "text/html": [
       "<div>\n",
       "<style scoped>\n",
       "    .dataframe tbody tr th:only-of-type {\n",
       "        vertical-align: middle;\n",
       "    }\n",
       "\n",
       "    .dataframe tbody tr th {\n",
       "        vertical-align: top;\n",
       "    }\n",
       "\n",
       "    .dataframe thead th {\n",
       "        text-align: right;\n",
       "    }\n",
       "</style>\n",
       "<table border=\"1\" class=\"dataframe\">\n",
       "  <thead>\n",
       "    <tr style=\"text-align: right;\">\n",
       "      <th></th>\n",
       "      <th>HashFunction</th>\n",
       "      <th>Trigger</th>\n",
       "      <th>ivocationDay_1</th>\n",
       "      <th>ivocationDay_2</th>\n",
       "      <th>ivocationDay_3</th>\n",
       "      <th>ivocationDay_4</th>\n",
       "      <th>ivocationDay_5</th>\n",
       "      <th>ivocationDay_6</th>\n",
       "      <th>ivocationDay_7</th>\n",
       "      <th>ivocationDay_8</th>\n",
       "      <th>ivocationDay_9</th>\n",
       "      <th>ivocationDay_10</th>\n",
       "      <th>ivocationDay_11</th>\n",
       "      <th>ivocationDay_12</th>\n",
       "      <th>ivocationDay_13</th>\n",
       "      <th>ivocationDay_14</th>\n",
       "    </tr>\n",
       "  </thead>\n",
       "  <tbody>\n",
       "    <tr>\n",
       "      <th>0</th>\n",
       "      <td>520dbd6bd906840012aa0c4b778743efc7c0ac7b7caf96...</td>\n",
       "      <td>http</td>\n",
       "      <td>288.0</td>\n",
       "      <td>288.0</td>\n",
       "      <td>287.0</td>\n",
       "      <td>288.0</td>\n",
       "      <td>288.0</td>\n",
       "      <td>288.0</td>\n",
       "      <td>288.0</td>\n",
       "      <td>289.0</td>\n",
       "      <td>288.0</td>\n",
       "      <td>289.0</td>\n",
       "      <td>288.0</td>\n",
       "      <td>288.0</td>\n",
       "      <td>288.0</td>\n",
       "      <td>288.0</td>\n",
       "    </tr>\n",
       "    <tr>\n",
       "      <th>1</th>\n",
       "      <td>115ca7a2b5bc290052c3da74cd0347d19c3c67b7d5aa66...</td>\n",
       "      <td>http</td>\n",
       "      <td>288.0</td>\n",
       "      <td>288.0</td>\n",
       "      <td>287.0</td>\n",
       "      <td>288.0</td>\n",
       "      <td>288.0</td>\n",
       "      <td>288.0</td>\n",
       "      <td>287.0</td>\n",
       "      <td>288.0</td>\n",
       "      <td>288.0</td>\n",
       "      <td>288.0</td>\n",
       "      <td>288.0</td>\n",
       "      <td>288.0</td>\n",
       "      <td>288.0</td>\n",
       "      <td>288.0</td>\n",
       "    </tr>\n",
       "    <tr>\n",
       "      <th>2</th>\n",
       "      <td>93e6c664773bbec3a7f50a0e92fa7e97401a802dc6eed8...</td>\n",
       "      <td>orchestration</td>\n",
       "      <td>10.0</td>\n",
       "      <td>6.0</td>\n",
       "      <td>7.0</td>\n",
       "      <td>26.0</td>\n",
       "      <td>21.0</td>\n",
       "      <td>4.0</td>\n",
       "      <td>2.0</td>\n",
       "      <td>9.0</td>\n",
       "      <td>1.0</td>\n",
       "      <td>8.0</td>\n",
       "      <td>6.0</td>\n",
       "      <td>1.0</td>\n",
       "      <td>2.0</td>\n",
       "      <td>0.0</td>\n",
       "    </tr>\n",
       "    <tr>\n",
       "      <th>3</th>\n",
       "      <td>740c5c767e4b9978ee59a97d1829cfbaf755a47806a311...</td>\n",
       "      <td>http</td>\n",
       "      <td>11.0</td>\n",
       "      <td>6.0</td>\n",
       "      <td>7.0</td>\n",
       "      <td>22.0</td>\n",
       "      <td>23.0</td>\n",
       "      <td>1.0</td>\n",
       "      <td>3.0</td>\n",
       "      <td>11.0</td>\n",
       "      <td>3.0</td>\n",
       "      <td>3.0</td>\n",
       "      <td>2.0</td>\n",
       "      <td>0.0</td>\n",
       "      <td>0.0</td>\n",
       "      <td>0.0</td>\n",
       "    </tr>\n",
       "    <tr>\n",
       "      <th>4</th>\n",
       "      <td>c108b4864b866b38b80d0e4594cc6d038f39668b804a1b...</td>\n",
       "      <td>http</td>\n",
       "      <td>9.0</td>\n",
       "      <td>7.0</td>\n",
       "      <td>9.0</td>\n",
       "      <td>27.0</td>\n",
       "      <td>14.0</td>\n",
       "      <td>6.0</td>\n",
       "      <td>3.0</td>\n",
       "      <td>16.0</td>\n",
       "      <td>1.0</td>\n",
       "      <td>2.0</td>\n",
       "      <td>8.0</td>\n",
       "      <td>3.0</td>\n",
       "      <td>1.0</td>\n",
       "      <td>0.0</td>\n",
       "    </tr>\n",
       "    <tr>\n",
       "      <th>...</th>\n",
       "      <td>...</td>\n",
       "      <td>...</td>\n",
       "      <td>...</td>\n",
       "      <td>...</td>\n",
       "      <td>...</td>\n",
       "      <td>...</td>\n",
       "      <td>...</td>\n",
       "      <td>...</td>\n",
       "      <td>...</td>\n",
       "      <td>...</td>\n",
       "      <td>...</td>\n",
       "      <td>...</td>\n",
       "      <td>...</td>\n",
       "      <td>...</td>\n",
       "      <td>...</td>\n",
       "      <td>...</td>\n",
       "    </tr>\n",
       "    <tr>\n",
       "      <th>74342</th>\n",
       "      <td>4795a4eddf26cca87a5c7c1de760fc1beefd16f866c197...</td>\n",
       "      <td>http</td>\n",
       "      <td>0.0</td>\n",
       "      <td>0.0</td>\n",
       "      <td>0.0</td>\n",
       "      <td>0.0</td>\n",
       "      <td>0.0</td>\n",
       "      <td>0.0</td>\n",
       "      <td>0.0</td>\n",
       "      <td>0.0</td>\n",
       "      <td>0.0</td>\n",
       "      <td>0.0</td>\n",
       "      <td>0.0</td>\n",
       "      <td>0.0</td>\n",
       "      <td>0.0</td>\n",
       "      <td>1.0</td>\n",
       "    </tr>\n",
       "    <tr>\n",
       "      <th>74343</th>\n",
       "      <td>75e947006f189b6cce5c6516975142f29a0f169e764fde...</td>\n",
       "      <td>storage</td>\n",
       "      <td>0.0</td>\n",
       "      <td>0.0</td>\n",
       "      <td>0.0</td>\n",
       "      <td>0.0</td>\n",
       "      <td>0.0</td>\n",
       "      <td>0.0</td>\n",
       "      <td>0.0</td>\n",
       "      <td>0.0</td>\n",
       "      <td>0.0</td>\n",
       "      <td>0.0</td>\n",
       "      <td>0.0</td>\n",
       "      <td>0.0</td>\n",
       "      <td>0.0</td>\n",
       "      <td>2.0</td>\n",
       "    </tr>\n",
       "    <tr>\n",
       "      <th>74344</th>\n",
       "      <td>11b3d8753f8f707b77c23063fb9cc9cfe9c74b40f9ab8c...</td>\n",
       "      <td>storage</td>\n",
       "      <td>0.0</td>\n",
       "      <td>0.0</td>\n",
       "      <td>0.0</td>\n",
       "      <td>0.0</td>\n",
       "      <td>0.0</td>\n",
       "      <td>0.0</td>\n",
       "      <td>0.0</td>\n",
       "      <td>0.0</td>\n",
       "      <td>0.0</td>\n",
       "      <td>0.0</td>\n",
       "      <td>0.0</td>\n",
       "      <td>0.0</td>\n",
       "      <td>0.0</td>\n",
       "      <td>1.0</td>\n",
       "    </tr>\n",
       "    <tr>\n",
       "      <th>74345</th>\n",
       "      <td>42212390028151a3ab9918fd440633957a4b3b8bd3e679...</td>\n",
       "      <td>storage</td>\n",
       "      <td>0.0</td>\n",
       "      <td>0.0</td>\n",
       "      <td>0.0</td>\n",
       "      <td>0.0</td>\n",
       "      <td>0.0</td>\n",
       "      <td>0.0</td>\n",
       "      <td>0.0</td>\n",
       "      <td>0.0</td>\n",
       "      <td>0.0</td>\n",
       "      <td>0.0</td>\n",
       "      <td>0.0</td>\n",
       "      <td>0.0</td>\n",
       "      <td>0.0</td>\n",
       "      <td>2.0</td>\n",
       "    </tr>\n",
       "    <tr>\n",
       "      <th>74346</th>\n",
       "      <td>55e76e10f7305ccd9b673695e9a9c00d6a2e7a532453d1...</td>\n",
       "      <td>http</td>\n",
       "      <td>0.0</td>\n",
       "      <td>0.0</td>\n",
       "      <td>0.0</td>\n",
       "      <td>0.0</td>\n",
       "      <td>0.0</td>\n",
       "      <td>0.0</td>\n",
       "      <td>0.0</td>\n",
       "      <td>0.0</td>\n",
       "      <td>0.0</td>\n",
       "      <td>0.0</td>\n",
       "      <td>0.0</td>\n",
       "      <td>0.0</td>\n",
       "      <td>0.0</td>\n",
       "      <td>1.0</td>\n",
       "    </tr>\n",
       "  </tbody>\n",
       "</table>\n",
       "<p>74347 rows × 16 columns</p>\n",
       "</div>"
      ],
      "text/plain": [
       "                                            HashFunction        Trigger  \\\n",
       "0      520dbd6bd906840012aa0c4b778743efc7c0ac7b7caf96...           http   \n",
       "1      115ca7a2b5bc290052c3da74cd0347d19c3c67b7d5aa66...           http   \n",
       "2      93e6c664773bbec3a7f50a0e92fa7e97401a802dc6eed8...  orchestration   \n",
       "3      740c5c767e4b9978ee59a97d1829cfbaf755a47806a311...           http   \n",
       "4      c108b4864b866b38b80d0e4594cc6d038f39668b804a1b...           http   \n",
       "...                                                  ...            ...   \n",
       "74342  4795a4eddf26cca87a5c7c1de760fc1beefd16f866c197...           http   \n",
       "74343  75e947006f189b6cce5c6516975142f29a0f169e764fde...        storage   \n",
       "74344  11b3d8753f8f707b77c23063fb9cc9cfe9c74b40f9ab8c...        storage   \n",
       "74345  42212390028151a3ab9918fd440633957a4b3b8bd3e679...        storage   \n",
       "74346  55e76e10f7305ccd9b673695e9a9c00d6a2e7a532453d1...           http   \n",
       "\n",
       "       ivocationDay_1  ivocationDay_2  ivocationDay_3  ivocationDay_4  \\\n",
       "0               288.0           288.0           287.0           288.0   \n",
       "1               288.0           288.0           287.0           288.0   \n",
       "2                10.0             6.0             7.0            26.0   \n",
       "3                11.0             6.0             7.0            22.0   \n",
       "4                 9.0             7.0             9.0            27.0   \n",
       "...               ...             ...             ...             ...   \n",
       "74342             0.0             0.0             0.0             0.0   \n",
       "74343             0.0             0.0             0.0             0.0   \n",
       "74344             0.0             0.0             0.0             0.0   \n",
       "74345             0.0             0.0             0.0             0.0   \n",
       "74346             0.0             0.0             0.0             0.0   \n",
       "\n",
       "       ivocationDay_5  ivocationDay_6  ivocationDay_7  ivocationDay_8  \\\n",
       "0               288.0           288.0           288.0           289.0   \n",
       "1               288.0           288.0           287.0           288.0   \n",
       "2                21.0             4.0             2.0             9.0   \n",
       "3                23.0             1.0             3.0            11.0   \n",
       "4                14.0             6.0             3.0            16.0   \n",
       "...               ...             ...             ...             ...   \n",
       "74342             0.0             0.0             0.0             0.0   \n",
       "74343             0.0             0.0             0.0             0.0   \n",
       "74344             0.0             0.0             0.0             0.0   \n",
       "74345             0.0             0.0             0.0             0.0   \n",
       "74346             0.0             0.0             0.0             0.0   \n",
       "\n",
       "       ivocationDay_9  ivocationDay_10  ivocationDay_11  ivocationDay_12  \\\n",
       "0               288.0            289.0            288.0            288.0   \n",
       "1               288.0            288.0            288.0            288.0   \n",
       "2                 1.0              8.0              6.0              1.0   \n",
       "3                 3.0              3.0              2.0              0.0   \n",
       "4                 1.0              2.0              8.0              3.0   \n",
       "...               ...              ...              ...              ...   \n",
       "74342             0.0              0.0              0.0              0.0   \n",
       "74343             0.0              0.0              0.0              0.0   \n",
       "74344             0.0              0.0              0.0              0.0   \n",
       "74345             0.0              0.0              0.0              0.0   \n",
       "74346             0.0              0.0              0.0              0.0   \n",
       "\n",
       "       ivocationDay_13  ivocationDay_14  \n",
       "0                288.0            288.0  \n",
       "1                288.0            288.0  \n",
       "2                  2.0              0.0  \n",
       "3                  0.0              0.0  \n",
       "4                  1.0              0.0  \n",
       "...                ...              ...  \n",
       "74342              0.0              1.0  \n",
       "74343              0.0              2.0  \n",
       "74344              0.0              1.0  \n",
       "74345              0.0              2.0  \n",
       "74346              0.0              1.0  \n",
       "\n",
       "[74347 rows x 16 columns]"
      ]
     },
     "execution_count": 28,
     "metadata": {},
     "output_type": "execute_result"
    }
   ],
   "source": [
    "#aux tiene el numero de invocaciones de un afuncion por dia\n",
    "aux = aux.fillna(0)\n",
    "aux"
   ]
  },
  {
   "cell_type": "code",
   "execution_count": 5,
   "id": "8c190978",
   "metadata": {},
   "outputs": [
    {
     "data": {
      "text/html": [
       "<div>\n",
       "<style scoped>\n",
       "    .dataframe tbody tr th:only-of-type {\n",
       "        vertical-align: middle;\n",
       "    }\n",
       "\n",
       "    .dataframe tbody tr th {\n",
       "        vertical-align: top;\n",
       "    }\n",
       "\n",
       "    .dataframe thead th {\n",
       "        text-align: right;\n",
       "    }\n",
       "</style>\n",
       "<table border=\"1\" class=\"dataframe\">\n",
       "  <thead>\n",
       "    <tr style=\"text-align: right;\">\n",
       "      <th></th>\n",
       "      <th>HashFunction</th>\n",
       "      <th>Trigger</th>\n",
       "      <th>InvocationsDays</th>\n",
       "    </tr>\n",
       "  </thead>\n",
       "  <tbody>\n",
       "    <tr>\n",
       "      <th>0</th>\n",
       "      <td>520dbd6bd906840012aa0c4b778743efc7c0ac7b7caf96...</td>\n",
       "      <td>http</td>\n",
       "      <td>4033.0</td>\n",
       "    </tr>\n",
       "    <tr>\n",
       "      <th>1</th>\n",
       "      <td>115ca7a2b5bc290052c3da74cd0347d19c3c67b7d5aa66...</td>\n",
       "      <td>http</td>\n",
       "      <td>4030.0</td>\n",
       "    </tr>\n",
       "    <tr>\n",
       "      <th>2</th>\n",
       "      <td>93e6c664773bbec3a7f50a0e92fa7e97401a802dc6eed8...</td>\n",
       "      <td>orchestration</td>\n",
       "      <td>103.0</td>\n",
       "    </tr>\n",
       "    <tr>\n",
       "      <th>3</th>\n",
       "      <td>740c5c767e4b9978ee59a97d1829cfbaf755a47806a311...</td>\n",
       "      <td>http</td>\n",
       "      <td>92.0</td>\n",
       "    </tr>\n",
       "    <tr>\n",
       "      <th>4</th>\n",
       "      <td>c108b4864b866b38b80d0e4594cc6d038f39668b804a1b...</td>\n",
       "      <td>http</td>\n",
       "      <td>106.0</td>\n",
       "    </tr>\n",
       "    <tr>\n",
       "      <th>...</th>\n",
       "      <td>...</td>\n",
       "      <td>...</td>\n",
       "      <td>...</td>\n",
       "    </tr>\n",
       "    <tr>\n",
       "      <th>74342</th>\n",
       "      <td>4795a4eddf26cca87a5c7c1de760fc1beefd16f866c197...</td>\n",
       "      <td>http</td>\n",
       "      <td>1.0</td>\n",
       "    </tr>\n",
       "    <tr>\n",
       "      <th>74343</th>\n",
       "      <td>75e947006f189b6cce5c6516975142f29a0f169e764fde...</td>\n",
       "      <td>storage</td>\n",
       "      <td>2.0</td>\n",
       "    </tr>\n",
       "    <tr>\n",
       "      <th>74344</th>\n",
       "      <td>11b3d8753f8f707b77c23063fb9cc9cfe9c74b40f9ab8c...</td>\n",
       "      <td>storage</td>\n",
       "      <td>1.0</td>\n",
       "    </tr>\n",
       "    <tr>\n",
       "      <th>74345</th>\n",
       "      <td>42212390028151a3ab9918fd440633957a4b3b8bd3e679...</td>\n",
       "      <td>storage</td>\n",
       "      <td>2.0</td>\n",
       "    </tr>\n",
       "    <tr>\n",
       "      <th>74346</th>\n",
       "      <td>55e76e10f7305ccd9b673695e9a9c00d6a2e7a532453d1...</td>\n",
       "      <td>http</td>\n",
       "      <td>1.0</td>\n",
       "    </tr>\n",
       "  </tbody>\n",
       "</table>\n",
       "<p>74347 rows × 3 columns</p>\n",
       "</div>"
      ],
      "text/plain": [
       "                                            HashFunction        Trigger  \\\n",
       "0      520dbd6bd906840012aa0c4b778743efc7c0ac7b7caf96...           http   \n",
       "1      115ca7a2b5bc290052c3da74cd0347d19c3c67b7d5aa66...           http   \n",
       "2      93e6c664773bbec3a7f50a0e92fa7e97401a802dc6eed8...  orchestration   \n",
       "3      740c5c767e4b9978ee59a97d1829cfbaf755a47806a311...           http   \n",
       "4      c108b4864b866b38b80d0e4594cc6d038f39668b804a1b...           http   \n",
       "...                                                  ...            ...   \n",
       "74342  4795a4eddf26cca87a5c7c1de760fc1beefd16f866c197...           http   \n",
       "74343  75e947006f189b6cce5c6516975142f29a0f169e764fde...        storage   \n",
       "74344  11b3d8753f8f707b77c23063fb9cc9cfe9c74b40f9ab8c...        storage   \n",
       "74345  42212390028151a3ab9918fd440633957a4b3b8bd3e679...        storage   \n",
       "74346  55e76e10f7305ccd9b673695e9a9c00d6a2e7a532453d1...           http   \n",
       "\n",
       "       InvocationsDays  \n",
       "0               4033.0  \n",
       "1               4030.0  \n",
       "2                103.0  \n",
       "3                 92.0  \n",
       "4                106.0  \n",
       "...                ...  \n",
       "74342              1.0  \n",
       "74343              2.0  \n",
       "74344              1.0  \n",
       "74345              2.0  \n",
       "74346              1.0  \n",
       "\n",
       "[74347 rows x 3 columns]"
      ]
     },
     "execution_count": 5,
     "metadata": {},
     "output_type": "execute_result"
    }
   ],
   "source": [
    "allDay = aux.copy()\n",
    "allDay[\"InvocationsDays\"] = allDay.iloc[:, 2:].sum(axis =1)\n",
    "allDay = allDay[[\"HashFunction\", \"Trigger\", \"InvocationsDays\"]]\n",
    "allDay"
   ]
  },
  {
   "cell_type": "code",
   "execution_count": 56,
   "id": "cb15b530",
   "metadata": {},
   "outputs": [],
   "source": [
    "#data frmae con defcha/hora/min   y numero de invocaciones totales recibidos por la plataforma en ese min\n",
    "#hora  invocaciones \n",
    "inv_min = pd.read_csv(r\"C:\\Users\\robin\\Documents\\dataset_Metodologia\\Invocations_per_1Min.csv\")"
   ]
  },
  {
   "cell_type": "code",
   "execution_count": 22,
   "id": "bd147653",
   "metadata": {},
   "outputs": [
    {
     "name": "stdout",
     "output_type": "stream",
     "text": [
      "Total de funciones  74347\n",
      "total de invocaciones recibidas en la plataforma  12495810846.0\n"
     ]
    }
   ],
   "source": [
    "\n",
    "#par acomproar si el numero de invocaciones coinciden en ambos DF\n",
    "print(\"Total de funciones \", allDay['HashFunction'].count())\n",
    "if(inv_min['invocaciones'].sum() == allDay['InvocationsDays'].sum()):\n",
    "    print(\"total de invocaciones recibidas en la plataforma \", allDay['InvocationsDays'].sum())"
   ]
  },
  {
   "cell_type": "markdown",
   "id": "69078681",
   "metadata": {},
   "source": [
    "# graficas y resolucion depreguntas"
   ]
  },
  {
   "cell_type": "code",
   "execution_count": 37,
   "id": "3a41132c",
   "metadata": {},
   "outputs": [
    {
     "name": "stdout",
     "output_type": "stream",
     "text": [
      "Tipos de Trigger y su presencia en % dentro del total de invocaicones\n",
      "\n",
      "Trigger\n",
      "  http             40.943145\n",
      "timer            27.000417\n",
      "queue            14.258813\n",
      "orchestration     7.748800\n",
      "others            5.377487\n",
      "event             2.500437\n",
      "storage           2.170901\n",
      "Name: Trigger, dtype: float64\n"
     ]
    },
    {
     "data": {
      "image/png": "[encoded data removed]",
      "text/plain": [
       "<Figure size 864x576 with 1 Axes>"
      ]
     },
     "metadata": {
      "needs_background": "light"
     },
     "output_type": "display_data"
    }
   ],
   "source": [
    "# porcentajes de Tipo de funciones y su contribucion al total,   Preguntas 2 y 4\n",
    "#¿Qué porcentaje de las funciones constituyen aquellas que tienen trigger timer?\n",
    "#¿Qué porcentaje de las funciones tienen trigger HTTP?\n",
    "\n",
    "# gráfico de barras de frecuencias relativas.\n",
    "plot = (100 * allDay['Trigger'].value_counts() / len(allDay['Trigger'])).plot(\n",
    "kind='bar', title='Tipos de Trigger %',  figsize=[12,8])\n",
    "\n",
    "print(\"Tipos de Trigger y su presencia en % dentro del total de invocaicones\\n\\nTrigger\\n \", \n",
    "      100 * allDay['Trigger'].value_counts() / len(allDay['Trigger'] ))\n"
   ]
  },
  {
   "attachments": {},
   "cell_type": "markdown",
   "id": "c44b936c",
   "metadata": {},
   "source": [
    "¿Qué porcentaje de las funciones constituyen aquellas que tienen trigger timer?\n",
    "¿Qué porcentaje de las funciones tienen trigger HTTP?\n",
    "\n",
    "Para Ambas preguntas antes planteadas las respuestas son las siguientes, los trigger timer y http constituyen un 27% y  40.94% siendo la presencia de triggers de tipo http la de mayor aporte dentro de todos los tipos de trigger, seguidos de los trigger tipo timer. Lo cual deja con un presencia del 32% a los otros tipos de trigger. \n"
   ]
  },
  {
   "cell_type": "code",
   "execution_count": 39,
   "id": "ab19a170",
   "metadata": {
    "scrolled": false
   },
   "outputs": [
    {
     "name": "stdout",
     "output_type": "stream",
     "text": [
      "porcentaje de invocacion en tipo de Trigger\n",
      "\n",
      " Trigger\n",
      "event            30.931048\n",
      "http             22.503750\n",
      "orchestration     1.400713\n",
      "others            0.121839\n",
      "queue            42.436373\n",
      "storage           0.782284\n",
      "timer             1.823993\n",
      "Name: InvocationsDays, dtype: float64\n"
     ]
    }
   ],
   "source": []
  },
  {
   "cell_type": "code",
   "execution_count": 41,
   "id": "4125bb42",
   "metadata": {},
   "outputs": [
    {
     "name": "stdout",
     "output_type": "stream",
     "text": [
      "porcentaje de invocacion en tipo de Trigger\n",
      "\n",
      " Trigger\n",
      "event            30.931048\n",
      "http             22.503750\n",
      "orchestration     1.400713\n",
      "others            0.121839\n",
      "queue            42.436373\n",
      "storage           0.782284\n",
      "timer             1.823993\n",
      "Name: InvocationsDays, dtype: float64\n"
     ]
    },
    {
     "data": {
      "image/png": "[encoded data removed]",
      "text/plain": [
       "<Figure size 864x576 with 1 Axes>"
      ]
     },
     "metadata": {
      "needs_background": "light"
     },
     "output_type": "display_data"
    }
   ],
   "source": [
    "# porcentajes de invocaciones Tipo de funciones y su contribucion al total,   preguntas 3 y 5\n",
    "# gráfico de barras de frecuencias relativas.\n",
    "plot = (100*allDay.groupby('Trigger')['InvocationsDays'].sum() / allDay['InvocationsDays'].sum()).plot(\n",
    "kind='bar', title='Tipos de Trigger  y su porcentaje de invocaciones, %',  figsize=[12,8])\n",
    "print(\"porcentaje de invocacion en tipo de Trigger\\n\\n\",(100*allDay.groupby('Trigger')['InvocationsDays'].sum() / allDay['InvocationsDays'].sum()))"
   ]
  },
  {
   "cell_type": "markdown",
   "id": "17bf82cd",
   "metadata": {},
   "source": [
    "Dentro de todas las invocaciones recibidas en la plataforma dentro de los 14 días de muestra en el dataframe que se está analizando, el porcentaje de invocación para las funciones tipo timer es de 1.8% y para las funciones tipo http es  22.50%. Contrario a la presencia de tipos de trigger en la que timer y http tiene la mayor presencia, en términos de invocaciones los trigger de tipo queue son los que más se dan a notar con un 42.44%  de todas las invocaciones."
   ]
  },
  {
   "cell_type": "markdown",
   "id": "d7529841",
   "metadata": {},
   "source": [
    "\n",
    "# Analisis de distribucion "
   ]
  },
  {
   "cell_type": "code",
   "execution_count": 52,
   "id": "0452a073",
   "metadata": {},
   "outputs": [],
   "source": [
    "from scipy import stats\n",
    "import inspect\n",
    "from statsmodels.distributions.empirical_distribution import ECDF\n",
    "from numpy import cumsum, log, polyfit, sqrt, std, subtract\n",
    "import datetime\n",
    "import warnings\n",
    "warnings.filterwarnings('ignore')"
   ]
  },
  {
   "cell_type": "code",
   "execution_count": 43,
   "id": "813fc9f4",
   "metadata": {},
   "outputs": [],
   "source": [
    "def hurst(serieT):\n",
    "    # Create the range of lag values\n",
    "    lags = range(2, 100)\n",
    "    # Calculate the array of the variances of the lagged differences\n",
    "    tau = [sqrt(std(subtract(serieT[lag:], serieT[:-lag]))) for lag in lags]\n",
    "    # Use a linear fit to estimate the Hurst Exponent\n",
    "    poly = polyfit(log(lags), log(tau), 1)\n",
    "    # Return the Hurst exponent from the polyfit output\n",
    "    return poly[0]*2.0   \n"
   ]
  },
  {
   "cell_type": "code",
   "execution_count": 54,
   "id": "b36e7b7d",
   "metadata": {},
   "outputs": [],
   "source": [
    "def serieT(df): #devuelve una serie de tiempo con formato fecha\n",
    "    df['hora']=df.hora\\\n",
    "                .map(lambda x : datetime.datetime.strptime(x,'%Y-%m-%d %H:%M:%S'))\n",
    "    df.set_index('hora', inplace=True)\n",
    "    return (df)"
   ]
  },
  {
   "cell_type": "code",
   "execution_count": 60,
   "id": "61044c47",
   "metadata": {},
   "outputs": [
    {
     "name": "stdout",
     "output_type": "stream",
     "text": [
      "[0.08883646]\n"
     ]
    }
   ],
   "source": []
  },
  {
   "cell_type": "code",
   "execution_count": 71,
   "id": "c47f6f2d",
   "metadata": {},
   "outputs": [
    {
     "name": "stdout",
     "output_type": "stream",
     "text": [
      "[0.08883646]\n"
     ]
    },
    {
     "data": {
      "image/png": "[encoded data removed]",
      "text/plain": [
       "<Figure size 864x432 with 1 Axes>"
      ]
     },
     "metadata": {
      "needs_background": "light"
     },
     "output_type": "display_data"
    }
   ],
   "source": [
    "fig, ax = plt.subplots(figsize=(12, 6))\n",
    "# Función de Distribución Acumulada\n",
    "# ecdf (empirical cumulative distribution function)\n",
    "ecdf = ECDF(x=inv_min['invocaciones'])\n",
    "ax.plot(ecdf.x, ecdf.y, color=\"#3182bd\")\n",
    "ax.set_title('Función de distribución empírica')\n",
    "ax.set_xlabel('invocaciones por minuto')\n",
    "ax.set_ylabel('CDF')\n",
    "\n",
    "plt.tight_layout();"
   ]
  },
  {
   "cell_type": "code",
   "execution_count": 73,
   "id": "1993c75d",
   "metadata": {
    "scrolled": true
   },
   "outputs": [
    {
     "name": "stdout",
     "output_type": "stream",
     "text": [
      "Coeficiente del Hurts para numero de invocacines por minuto de la plataforma: \n",
      " [0.08883646]\n"
     ]
    }
   ],
   "source": [
    "print (\"Coeficiente del Hurts para numero de invocacines por minuto de la plataforma: \\n\", hurst(serieT(inv_min.copy())))"
   ]
  },
  {
   "cell_type": "markdown",
   "id": "386f4865",
   "metadata": {},
   "source": [
    "Como dato de análisis se usó el número de invocaciones por minuto que recibe la plataforma. Dado el coeficiente del hurts 0.0888, la serie de numero de invocaciones mantiene una dinámica de reversión a la media. Con una probabilidad del 90% a que el número de invocaciones en un minuto sea menor o igual a 700000. "
   ]
  },
  {
   "cell_type": "code",
   "execution_count": null,
   "id": "0502faa4",
   "metadata": {},
   "outputs": [],
   "source": []
  },
  {
   "cell_type": "code",
   "execution_count": 80,
   "id": "f592ac29",
   "metadata": {},
   "outputs": [
    {
     "name": "stdout",
     "output_type": "stream",
     "text": [
      "Coeficiente del Hurts para numero de invocacines por hora de la plataforma: \n",
      " [0.11322122]\n"
     ]
    },
    {
     "data": {
      "image/png": "[encoded data removed]",
      "text/plain": [
       "<Figure size 864x432 with 1 Axes>"
      ]
     },
     "metadata": {
      "needs_background": "light"
     },
     "output_type": "display_data"
    }
   ],
   "source": [
    "inv_hor = pd.read_csv(r\"C:\\Users\\robin\\Documents\\dataset_Metodologia\\Invocations_per_Hour.csv\")\n",
    "fig, ax = plt.subplots(figsize=(12, 6))\n",
    "# Función de Distribución Acumulada\n",
    "# ecdf (empirical cumulative distribution function)\n",
    "ecdf = ECDF(x=inv_min['invocaciones'])\n",
    "ax.plot(ecdf.x, ecdf.y, color=\"#3182bd\")\n",
    "ax.set_title('Función de distribución empírica')\n",
    "ax.set_xlabel('invocaciones por hora')\n",
    "ax.set_ylabel('CDF')\n",
    "print (\"Coeficiente del Hurts para numero de invocacines por hora de la plataforma: \\n\", hurst(serieT(inv_hor.copy())))\n",
    "plt.tight_layout();"
   ]
  }
 ],
 "metadata": {
  "kernelspec": {
   "display_name": "Python 3",
   "language": "python",
   "name": "python3"
  },
  "language_info": {
   "codemirror_mode": {
    "name": "ipython",
    "version": 3
   },
   "file_extension": ".py",
   "mimetype": "text/x-python",
   "name": "python",
   "nbconvert_exporter": "python",
   "pygments_lexer": "ipython3",
   "version": "3.8.8"
  }
 },
 "nbformat": 4,
 "nbformat_minor": 5
}
